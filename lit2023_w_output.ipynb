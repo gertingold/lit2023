{
 "cells": [
  {
   "cell_type": "markdown",
   "id": "4a9a9526",
   "metadata": {
    "slideshow": {
     "slide_type": "slide"
    }
   },
   "source": [
    "# LIT 2023: Datenanalyse mit Python\n",
    "\n",
    "Gert-Ludwig Ingold\n",
    "\n",
    "\n"
   ]
  },
  {
   "cell_type": "markdown",
   "id": "22803e2e",
   "metadata": {
    "slideshow": {
     "slide_type": "-"
    }
   },
   "source": [
    "<div style=\"margin-top: 7em;font-size: smaller;\">Quellen: github.com/gertingold/lit2023</div>"
   ]
  },
  {
   "cell_type": "markdown",
   "id": "7055ed80",
   "metadata": {
    "slideshow": {
     "slide_type": "slide"
    }
   },
   "source": [
    "### Tabellenkalkulation\n",
    "\n",
    "* in der Windowswelt: Microsoft™ Excel™\n",
    "* in der Linuxwelt (und darüber hinaus): LibreOffice\n",
    "* Macros in LibreOffice können in Basic und Python programmiert werden\n",
    "\n",
    "Alternative:\n",
    "* Datenanalyse unabhängig von einem Tabellenkalkulationsprogramm\n",
    "* Python mit der pandas-Bibliothek\n",
    "* zusätzlich Jupyter-Notebook zur Entwicklung des Workflows und/oder zur Dokumentation der Datenanalyse"
   ]
  },
  {
   "cell_type": "markdown",
   "id": "20d48cf0",
   "metadata": {
    "slideshow": {
     "slide_type": "slide"
    }
   },
   "source": [
    "### Das erste Bild eines schwarzen Loches\n",
    "<table>\n",
    " <tr style=\"background-color:#ffffff;\">\n",
    " <td>\n",
    " <img src=\"eso1907a.jpg\" width=\"500\">\n",
    " <small>Credit: EHT Collaboration</small>\n",
    " </td><td>\n",
    " <p>verwendete Software:</p>\n",
    " <p>DiFX, CALC, PolConvert, HOPS, CASA, AIPS, ParselTongue, GNU Parallel, GILDAS, eht-imaging, <b>Numpy</b>, Scipy, <b>Pandas</b>, Astropy, <b>Jupyter</b>, <b>Matplotlib</b></p>\n",
    " <small>EHT Collaboration, Astrophys. J. Lett. <b>875</b>, L3 (2019)</small>\n",
    " </td>\n",
    " </tr>\n",
    "</table>"
   ]
  },
  {
   "cell_type": "markdown",
   "id": "404f4dac",
   "metadata": {
    "slideshow": {
     "slide_type": "slide"
    }
   },
   "source": [
    "### Pandas\n",
    "\n",
    "Dokumentation: https://pandas.pydata.org/\n",
    "\n",
    "Möglichkeiten zur Installation:\n",
    "* Debian/Ubuntu: Paket python3-pandas installieren\n",
    "* Anaconda-Distribution enthält pandas → https://anaconda.org\n",
    "* in einem virtual environment: `pip install pandas`"
   ]
  },
  {
   "cell_type": "code",
   "execution_count": 1,
   "id": "dc6f8542",
   "metadata": {
    "slideshow": {
     "slide_type": "slide"
    }
   },
   "outputs": [],
   "source": [
    "import pandas as pd"
   ]
  },
  {
   "cell_type": "code",
   "execution_count": 2,
   "id": "31fd5b82",
   "metadata": {
    "slideshow": {
     "slide_type": "-"
    }
   },
   "outputs": [],
   "source": [
    "import numpy as np\n",
    "import matplotlib.pyplot as plt\n",
    "import datetime"
   ]
  },
  {
   "cell_type": "markdown",
   "id": "10959bf5",
   "metadata": {
    "slideshow": {
     "slide_type": "slide"
    }
   },
   "source": [
    "## Passagierzählung S-Bahn Hamburg\n",
    "### aus dem Open-Data-Portal der Deutschen Bahn AG\n",
    "\n",
    "Webseite zum Datensatz:<br>\n",
    "https://data.deutschebahn.com/dataset/passagierzahlung-s-bahn-hamburg.html\n",
    "\n",
    "Daten zu Ein- und Aussteigern an den Hamburger S-Bahn Stationen aus Zählfahrten. (Rohdaten aus den Meßfahrten - exemplarische Werte, keine Gesamtpassagierzahlen)\n",
    "\n",
    "\n",
    "Link zum Datensatz:<br>\n",
    "https://download-data.deutschebahn.com/static/datasets/personenzahlen/Passagierzahlen.csv"
   ]
  },
  {
   "cell_type": "code",
   "execution_count": 3,
   "id": "99b3b629",
   "metadata": {
    "slideshow": {
     "slide_type": "slide"
    }
   },
   "outputs": [
    {
     "name": "stdout",
     "output_type": "stream",
     "text": [
      "Zugnr;Station;Einsteiger;Aussteiger;dtmIstAnkunftDatum;dtmIstAbfahrtDatum;DS100 kurz;strKurzbezeichnung\r",
      "\r\n",
      "248206;Aum�hle;0,00;0,00;10.12.2016 09:27:26;10.12.2016 09:28:49;AH;S21\r",
      "\r\n",
      "248206;Wohltorf;5,00;0,00;10.12.2016 09:31:36;10.12.2016 09:31:55;WLF;S21\r",
      "\r\n",
      "248206;Reinbek;9,00;0,00;10.12.2016 09:34:09;10.12.2016 09:34:32;RBK;S21\r",
      "\r\n",
      "248206;Bergedorf;43,00;5,00;10.12.2016 09:38:01;10.12.2016 09:38:32;BGS;S21\r",
      "\r\n",
      "248206;Nettelnburg;10,00;7,00;10.12.2016 09:40:32;10.12.2016 09:40:57;NTB;S21\r",
      "\r\n",
      "248206;Allerm�he;8,00;3,00;10.12.2016 09:42:38;10.12.2016 09:43:01;ALH;S21\r",
      "\r\n",
      "248206;Mittlerer Landweg;6,00;5,00;10.12.2016 09:45:08;10.12.2016 09:45:27;ML;S21\r",
      "\r\n",
      "248206;Billwerder-Moorfleet;1,00;0,00;10.12.2016 09:48:15;10.12.2016 09:48:37;BWM;S21\r",
      "\r\n",
      "248206;Tiefstack;14,00;4,00;10.12.2016 09:51:10;10.12.2016 09:51:33;TK;S21\r",
      "\r\n"
     ]
    }
   ],
   "source": [
    "!head Passagierzahlen.csv"
   ]
  },
  {
   "cell_type": "markdown",
   "id": "23156924",
   "metadata": {
    "slideshow": {
     "slide_type": "fragment"
    }
   },
   "source": [
    "* Spalten sind durch Strichpunkte getrennt\n",
    "* Encoding ist nicht UTF-8, sondern ISO8859\n",
    "* Ein- und Aussteigerzahlen sind als Gleitkommazahlen angegeben, nicht als ganze Zahlen\n",
    "* Es wird ein Dezimalkomma statt einem Dezimalpunkt verwendet\n",
    "* Die Angabe des Datums erfolgt als String und erfordert für die weitere Verarbeitung eine Umwandlung in ein `datetime`-Objekt\n",
    "* DS100 kurz: [Betriebsstellenverzeichnis](https://de.wikipedia.org/wiki/Betriebsstellenverzeichnis) (Druckschrift 100), zur Vervollständigung muss ein führendes A für H**A**mburg eingefügt werden"
   ]
  },
  {
   "cell_type": "markdown",
   "id": "7cb4b419",
   "metadata": {
    "slideshow": {
     "slide_type": "slide"
    }
   },
   "source": [
    "### Einlesen der Daten"
   ]
  },
  {
   "cell_type": "code",
   "execution_count": 4,
   "id": "8d7be057",
   "metadata": {
    "slideshow": {
     "slide_type": "-"
    }
   },
   "outputs": [],
   "source": [
    "df = pd.read_csv('./Passagierzahlen.csv',\n",
    "                 sep=';',\n",
    "                 decimal=',',\n",
    "                 encoding='ISO8859',\n",
    "                 dtype={'Einsteiger': np.int64, 'Aussteiger': np.int64},\n",
    "                 parse_dates=['dtmIstAnkunftDatum', 'dtmIstAbfahrtDatum'],\n",
    "                 date_format='%d.%m.%Y %H:%M:%S'\n",
    "                )"
   ]
  },
  {
   "cell_type": "code",
   "execution_count": 5,
   "id": "4296b89a",
   "metadata": {
    "scrolled": true,
    "slideshow": {
     "slide_type": "-"
    }
   },
   "outputs": [
    {
     "data": {
      "text/html": [
       "<div>\n",
       "<style scoped>\n",
       "    .dataframe tbody tr th:only-of-type {\n",
       "        vertical-align: middle;\n",
       "    }\n",
       "\n",
       "    .dataframe tbody tr th {\n",
       "        vertical-align: top;\n",
       "    }\n",
       "\n",
       "    .dataframe thead th {\n",
       "        text-align: right;\n",
       "    }\n",
       "</style>\n",
       "<table border=\"1\" class=\"dataframe\">\n",
       "  <thead>\n",
       "    <tr style=\"text-align: right;\">\n",
       "      <th></th>\n",
       "      <th>Zugnr</th>\n",
       "      <th>Station</th>\n",
       "      <th>Einsteiger</th>\n",
       "      <th>Aussteiger</th>\n",
       "      <th>dtmIstAnkunftDatum</th>\n",
       "      <th>dtmIstAbfahrtDatum</th>\n",
       "      <th>DS100 kurz</th>\n",
       "      <th>strKurzbezeichnung</th>\n",
       "    </tr>\n",
       "  </thead>\n",
       "  <tbody>\n",
       "    <tr>\n",
       "      <th>0</th>\n",
       "      <td>248206</td>\n",
       "      <td>Aumühle</td>\n",
       "      <td>0</td>\n",
       "      <td>0</td>\n",
       "      <td>2016-12-10 09:27:26</td>\n",
       "      <td>2016-12-10 09:28:49</td>\n",
       "      <td>AH</td>\n",
       "      <td>S21</td>\n",
       "    </tr>\n",
       "    <tr>\n",
       "      <th>1</th>\n",
       "      <td>248206</td>\n",
       "      <td>Wohltorf</td>\n",
       "      <td>5</td>\n",
       "      <td>0</td>\n",
       "      <td>2016-12-10 09:31:36</td>\n",
       "      <td>2016-12-10 09:31:55</td>\n",
       "      <td>WLF</td>\n",
       "      <td>S21</td>\n",
       "    </tr>\n",
       "    <tr>\n",
       "      <th>2</th>\n",
       "      <td>248206</td>\n",
       "      <td>Reinbek</td>\n",
       "      <td>9</td>\n",
       "      <td>0</td>\n",
       "      <td>2016-12-10 09:34:09</td>\n",
       "      <td>2016-12-10 09:34:32</td>\n",
       "      <td>RBK</td>\n",
       "      <td>S21</td>\n",
       "    </tr>\n",
       "    <tr>\n",
       "      <th>3</th>\n",
       "      <td>248206</td>\n",
       "      <td>Bergedorf</td>\n",
       "      <td>43</td>\n",
       "      <td>5</td>\n",
       "      <td>2016-12-10 09:38:01</td>\n",
       "      <td>2016-12-10 09:38:32</td>\n",
       "      <td>BGS</td>\n",
       "      <td>S21</td>\n",
       "    </tr>\n",
       "    <tr>\n",
       "      <th>4</th>\n",
       "      <td>248206</td>\n",
       "      <td>Nettelnburg</td>\n",
       "      <td>10</td>\n",
       "      <td>7</td>\n",
       "      <td>2016-12-10 09:40:32</td>\n",
       "      <td>2016-12-10 09:40:57</td>\n",
       "      <td>NTB</td>\n",
       "      <td>S21</td>\n",
       "    </tr>\n",
       "    <tr>\n",
       "      <th>...</th>\n",
       "      <td>...</td>\n",
       "      <td>...</td>\n",
       "      <td>...</td>\n",
       "      <td>...</td>\n",
       "      <td>...</td>\n",
       "      <td>...</td>\n",
       "      <td>...</td>\n",
       "      <td>...</td>\n",
       "    </tr>\n",
       "    <tr>\n",
       "      <th>610665</th>\n",
       "      <td>243064k</td>\n",
       "      <td>Diebsteich</td>\n",
       "      <td>2</td>\n",
       "      <td>8</td>\n",
       "      <td>2017-03-31 08:13:03</td>\n",
       "      <td>2017-03-31 08:13:41</td>\n",
       "      <td>DT</td>\n",
       "      <td>S3</td>\n",
       "    </tr>\n",
       "    <tr>\n",
       "      <th>610666</th>\n",
       "      <td>243064k</td>\n",
       "      <td>Langenfelde</td>\n",
       "      <td>0</td>\n",
       "      <td>0</td>\n",
       "      <td>2017-03-31 08:14:53</td>\n",
       "      <td>2017-03-31 08:15:28</td>\n",
       "      <td>LST</td>\n",
       "      <td>S3</td>\n",
       "    </tr>\n",
       "    <tr>\n",
       "      <th>610667</th>\n",
       "      <td>243064k</td>\n",
       "      <td>Stellingen</td>\n",
       "      <td>0</td>\n",
       "      <td>2</td>\n",
       "      <td>2017-03-31 08:16:49</td>\n",
       "      <td>2017-03-31 08:17:28</td>\n",
       "      <td>STS</td>\n",
       "      <td>S3</td>\n",
       "    </tr>\n",
       "    <tr>\n",
       "      <th>610668</th>\n",
       "      <td>243064k</td>\n",
       "      <td>Eidelstedt</td>\n",
       "      <td>0</td>\n",
       "      <td>0</td>\n",
       "      <td>2017-03-31 08:19:00</td>\n",
       "      <td>2017-03-31 08:19:41</td>\n",
       "      <td>EST</td>\n",
       "      <td>S3</td>\n",
       "    </tr>\n",
       "    <tr>\n",
       "      <th>610669</th>\n",
       "      <td>243064k</td>\n",
       "      <td>Elbgaustraße</td>\n",
       "      <td>0</td>\n",
       "      <td>1</td>\n",
       "      <td>2017-03-31 08:20:57</td>\n",
       "      <td>2017-03-31 08:24:11</td>\n",
       "      <td>EGS</td>\n",
       "      <td>S3</td>\n",
       "    </tr>\n",
       "  </tbody>\n",
       "</table>\n",
       "<p>610670 rows × 8 columns</p>\n",
       "</div>"
      ],
      "text/plain": [
       "          Zugnr       Station  Einsteiger  Aussteiger  dtmIstAnkunftDatum   \n",
       "0        248206       Aumühle           0           0 2016-12-10 09:27:26  \\\n",
       "1        248206      Wohltorf           5           0 2016-12-10 09:31:36   \n",
       "2        248206       Reinbek           9           0 2016-12-10 09:34:09   \n",
       "3        248206     Bergedorf          43           5 2016-12-10 09:38:01   \n",
       "4        248206   Nettelnburg          10           7 2016-12-10 09:40:32   \n",
       "...         ...           ...         ...         ...                 ...   \n",
       "610665  243064k    Diebsteich           2           8 2017-03-31 08:13:03   \n",
       "610666  243064k   Langenfelde           0           0 2017-03-31 08:14:53   \n",
       "610667  243064k    Stellingen           0           2 2017-03-31 08:16:49   \n",
       "610668  243064k    Eidelstedt           0           0 2017-03-31 08:19:00   \n",
       "610669  243064k  Elbgaustraße           0           1 2017-03-31 08:20:57   \n",
       "\n",
       "        dtmIstAbfahrtDatum DS100 kurz strKurzbezeichnung  \n",
       "0      2016-12-10 09:28:49         AH                S21  \n",
       "1      2016-12-10 09:31:55        WLF                S21  \n",
       "2      2016-12-10 09:34:32        RBK                S21  \n",
       "3      2016-12-10 09:38:32        BGS                S21  \n",
       "4      2016-12-10 09:40:57        NTB                S21  \n",
       "...                    ...        ...                ...  \n",
       "610665 2017-03-31 08:13:41         DT                 S3  \n",
       "610666 2017-03-31 08:15:28        LST                 S3  \n",
       "610667 2017-03-31 08:17:28        STS                 S3  \n",
       "610668 2017-03-31 08:19:41        EST                 S3  \n",
       "610669 2017-03-31 08:24:11        EGS                 S3  \n",
       "\n",
       "[610670 rows x 8 columns]"
      ]
     },
     "execution_count": 5,
     "metadata": {},
     "output_type": "execute_result"
    }
   ],
   "source": [
    "df"
   ]
  },
  {
   "cell_type": "code",
   "execution_count": 6,
   "id": "6a333069",
   "metadata": {
    "slideshow": {
     "slide_type": "slide"
    }
   },
   "outputs": [
    {
     "data": {
      "text/plain": [
       "0              Aumühle\n",
       "1             Wohltorf\n",
       "2              Reinbek\n",
       "3            Bergedorf\n",
       "4          Nettelnburg\n",
       "              ...     \n",
       "610665      Diebsteich\n",
       "610666     Langenfelde\n",
       "610667      Stellingen\n",
       "610668      Eidelstedt\n",
       "610669    Elbgaustraße\n",
       "Name: Station, Length: 610670, dtype: object"
      ]
     },
     "execution_count": 6,
     "metadata": {},
     "output_type": "execute_result"
    }
   ],
   "source": [
    "df['Station']"
   ]
  },
  {
   "cell_type": "code",
   "execution_count": 7,
   "id": "d0178fc8",
   "metadata": {
    "slideshow": {
     "slide_type": "-"
    }
   },
   "outputs": [
    {
     "data": {
      "text/plain": [
       "0              Aumühle\n",
       "1             Wohltorf\n",
       "2              Reinbek\n",
       "3            Bergedorf\n",
       "4          Nettelnburg\n",
       "              ...     \n",
       "610665      Diebsteich\n",
       "610666     Langenfelde\n",
       "610667      Stellingen\n",
       "610668      Eidelstedt\n",
       "610669    Elbgaustraße\n",
       "Name: Station, Length: 610670, dtype: object"
      ]
     },
     "execution_count": 7,
     "metadata": {},
     "output_type": "execute_result"
    }
   ],
   "source": [
    "df.Station"
   ]
  },
  {
   "cell_type": "code",
   "execution_count": 8,
   "id": "676e3796",
   "metadata": {
    "slideshow": {
     "slide_type": "slide"
    }
   },
   "outputs": [
    {
     "data": {
      "text/plain": [
       "pandas.core.frame.DataFrame"
      ]
     },
     "execution_count": 8,
     "metadata": {},
     "output_type": "execute_result"
    }
   ],
   "source": [
    "type(df)"
   ]
  },
  {
   "cell_type": "code",
   "execution_count": 9,
   "id": "60de8222",
   "metadata": {
    "slideshow": {
     "slide_type": "fragment"
    }
   },
   "outputs": [
    {
     "data": {
      "text/plain": [
       "pandas.core.series.Series"
      ]
     },
     "execution_count": 9,
     "metadata": {},
     "output_type": "execute_result"
    }
   ],
   "source": [
    "type(df['DS100 kurz'])"
   ]
  },
  {
   "cell_type": "markdown",
   "id": "8bd75240",
   "metadata": {
    "slideshow": {
     "slide_type": "fragment"
    }
   },
   "source": [
    "* `DataFrame`: zweidimensionale Tabelle\n",
    "* `Series`: Tabellenspalte"
   ]
  },
  {
   "cell_type": "code",
   "execution_count": 10,
   "id": "e8900825",
   "metadata": {
    "slideshow": {
     "slide_type": "slide"
    }
   },
   "outputs": [
    {
     "name": "stdout",
     "output_type": "stream",
     "text": [
      "<class 'pandas.core.frame.DataFrame'>\n",
      "RangeIndex: 610670 entries, 0 to 610669\n",
      "Data columns (total 8 columns):\n",
      " #   Column              Non-Null Count   Dtype         \n",
      "---  ------              --------------   -----         \n",
      " 0   Zugnr               610670 non-null  object        \n",
      " 1   Station             610670 non-null  object        \n",
      " 2   Einsteiger          610670 non-null  int64         \n",
      " 3   Aussteiger          610670 non-null  int64         \n",
      " 4   dtmIstAnkunftDatum  610670 non-null  datetime64[ns]\n",
      " 5   dtmIstAbfahrtDatum  610670 non-null  datetime64[ns]\n",
      " 6   DS100 kurz          610670 non-null  object        \n",
      " 7   strKurzbezeichnung  610670 non-null  object        \n",
      "dtypes: datetime64[ns](2), int64(2), object(4)\n",
      "memory usage: 37.3+ MB\n"
     ]
    }
   ],
   "source": [
    "df.info()"
   ]
  },
  {
   "cell_type": "code",
   "execution_count": 11,
   "id": "3003de2b",
   "metadata": {
    "slideshow": {
     "slide_type": "-"
    }
   },
   "outputs": [
    {
     "data": {
      "text/plain": [
       "Index(['Zugnr', 'Station', 'Einsteiger', 'Aussteiger', 'dtmIstAnkunftDatum',\n",
       "       'dtmIstAbfahrtDatum', 'DS100 kurz', 'strKurzbezeichnung'],\n",
       "      dtype='object')"
      ]
     },
     "execution_count": 11,
     "metadata": {},
     "output_type": "execute_result"
    }
   ],
   "source": [
    "df.keys()"
   ]
  },
  {
   "cell_type": "code",
   "execution_count": 12,
   "id": "2236f962",
   "metadata": {
    "slideshow": {
     "slide_type": "-"
    }
   },
   "outputs": [
    {
     "data": {
      "text/plain": [
       "'Zugnr'"
      ]
     },
     "execution_count": 12,
     "metadata": {},
     "output_type": "execute_result"
    }
   ],
   "source": [
    "df.keys()[0]"
   ]
  },
  {
   "cell_type": "markdown",
   "id": "9afa7cb3",
   "metadata": {
    "slideshow": {
     "slide_type": "slide"
    }
   },
   "source": [
    "### Gehen Passagiere verloren?"
   ]
  },
  {
   "cell_type": "code",
   "execution_count": 13,
   "id": "7a97fcdb",
   "metadata": {
    "slideshow": {
     "slide_type": "-"
    }
   },
   "outputs": [
    {
     "data": {
      "text/plain": [
       "10979793"
      ]
     },
     "execution_count": 13,
     "metadata": {},
     "output_type": "execute_result"
    }
   ],
   "source": [
    "df['Einsteiger'].sum()"
   ]
  },
  {
   "cell_type": "code",
   "execution_count": 14,
   "id": "509359a5",
   "metadata": {
    "slideshow": {
     "slide_type": "-"
    }
   },
   "outputs": [
    {
     "data": {
      "text/plain": [
       "11168583"
      ]
     },
     "execution_count": 14,
     "metadata": {},
     "output_type": "execute_result"
    }
   ],
   "source": [
    "df['Aussteiger'].sum()"
   ]
  },
  {
   "cell_type": "code",
   "execution_count": 15,
   "id": "f56b6720",
   "metadata": {
    "slideshow": {
     "slide_type": "subslide"
    }
   },
   "outputs": [
    {
     "data": {
      "text/plain": [
       "0      0\n",
       "1      5\n",
       "2     14\n",
       "3     52\n",
       "4     55\n",
       "5     60\n",
       "6     61\n",
       "7     62\n",
       "8     72\n",
       "9     72\n",
       "10    70\n",
       "11    46\n",
       "12    24\n",
       "13    24\n",
       "14    11\n",
       "15     8\n",
       "16     8\n",
       "17     8\n",
       "18    -3\n",
       "19    -4\n",
       "dtype: int64"
      ]
     },
     "execution_count": 15,
     "metadata": {},
     "output_type": "execute_result"
    }
   ],
   "source": [
    "(df.loc[:19, 'Einsteiger'] - df.loc[:19, 'Aussteiger']).cumsum()"
   ]
  },
  {
   "cell_type": "markdown",
   "id": "c12584bb",
   "metadata": {
    "slideshow": {
     "slide_type": "slide"
    }
   },
   "source": [
    "### Hinzufügen einer Spalte mit den vollständigen Betriebsstellencodes"
   ]
  },
  {
   "cell_type": "code",
   "execution_count": 16,
   "id": "26c43419",
   "metadata": {
    "slideshow": {
     "slide_type": "-"
    }
   },
   "outputs": [
    {
     "data": {
      "text/html": [
       "<div>\n",
       "<style scoped>\n",
       "    .dataframe tbody tr th:only-of-type {\n",
       "        vertical-align: middle;\n",
       "    }\n",
       "\n",
       "    .dataframe tbody tr th {\n",
       "        vertical-align: top;\n",
       "    }\n",
       "\n",
       "    .dataframe thead th {\n",
       "        text-align: right;\n",
       "    }\n",
       "</style>\n",
       "<table border=\"1\" class=\"dataframe\">\n",
       "  <thead>\n",
       "    <tr style=\"text-align: right;\">\n",
       "      <th></th>\n",
       "      <th>Zugnr</th>\n",
       "      <th>Station</th>\n",
       "      <th>Einsteiger</th>\n",
       "      <th>Aussteiger</th>\n",
       "      <th>dtmIstAnkunftDatum</th>\n",
       "      <th>dtmIstAbfahrtDatum</th>\n",
       "      <th>DS100 kurz</th>\n",
       "      <th>strKurzbezeichnung</th>\n",
       "      <th>DS100</th>\n",
       "    </tr>\n",
       "  </thead>\n",
       "  <tbody>\n",
       "    <tr>\n",
       "      <th>0</th>\n",
       "      <td>248206</td>\n",
       "      <td>Aumühle</td>\n",
       "      <td>0</td>\n",
       "      <td>0</td>\n",
       "      <td>2016-12-10 09:27:26</td>\n",
       "      <td>2016-12-10 09:28:49</td>\n",
       "      <td>AH</td>\n",
       "      <td>S21</td>\n",
       "      <td>AAH</td>\n",
       "    </tr>\n",
       "    <tr>\n",
       "      <th>1</th>\n",
       "      <td>248206</td>\n",
       "      <td>Wohltorf</td>\n",
       "      <td>5</td>\n",
       "      <td>0</td>\n",
       "      <td>2016-12-10 09:31:36</td>\n",
       "      <td>2016-12-10 09:31:55</td>\n",
       "      <td>WLF</td>\n",
       "      <td>S21</td>\n",
       "      <td>AWLF</td>\n",
       "    </tr>\n",
       "    <tr>\n",
       "      <th>2</th>\n",
       "      <td>248206</td>\n",
       "      <td>Reinbek</td>\n",
       "      <td>9</td>\n",
       "      <td>0</td>\n",
       "      <td>2016-12-10 09:34:09</td>\n",
       "      <td>2016-12-10 09:34:32</td>\n",
       "      <td>RBK</td>\n",
       "      <td>S21</td>\n",
       "      <td>ARBK</td>\n",
       "    </tr>\n",
       "    <tr>\n",
       "      <th>3</th>\n",
       "      <td>248206</td>\n",
       "      <td>Bergedorf</td>\n",
       "      <td>43</td>\n",
       "      <td>5</td>\n",
       "      <td>2016-12-10 09:38:01</td>\n",
       "      <td>2016-12-10 09:38:32</td>\n",
       "      <td>BGS</td>\n",
       "      <td>S21</td>\n",
       "      <td>ABGS</td>\n",
       "    </tr>\n",
       "    <tr>\n",
       "      <th>4</th>\n",
       "      <td>248206</td>\n",
       "      <td>Nettelnburg</td>\n",
       "      <td>10</td>\n",
       "      <td>7</td>\n",
       "      <td>2016-12-10 09:40:32</td>\n",
       "      <td>2016-12-10 09:40:57</td>\n",
       "      <td>NTB</td>\n",
       "      <td>S21</td>\n",
       "      <td>ANTB</td>\n",
       "    </tr>\n",
       "    <tr>\n",
       "      <th>...</th>\n",
       "      <td>...</td>\n",
       "      <td>...</td>\n",
       "      <td>...</td>\n",
       "      <td>...</td>\n",
       "      <td>...</td>\n",
       "      <td>...</td>\n",
       "      <td>...</td>\n",
       "      <td>...</td>\n",
       "      <td>...</td>\n",
       "    </tr>\n",
       "    <tr>\n",
       "      <th>610665</th>\n",
       "      <td>243064k</td>\n",
       "      <td>Diebsteich</td>\n",
       "      <td>2</td>\n",
       "      <td>8</td>\n",
       "      <td>2017-03-31 08:13:03</td>\n",
       "      <td>2017-03-31 08:13:41</td>\n",
       "      <td>DT</td>\n",
       "      <td>S3</td>\n",
       "      <td>ADT</td>\n",
       "    </tr>\n",
       "    <tr>\n",
       "      <th>610666</th>\n",
       "      <td>243064k</td>\n",
       "      <td>Langenfelde</td>\n",
       "      <td>0</td>\n",
       "      <td>0</td>\n",
       "      <td>2017-03-31 08:14:53</td>\n",
       "      <td>2017-03-31 08:15:28</td>\n",
       "      <td>LST</td>\n",
       "      <td>S3</td>\n",
       "      <td>ALST</td>\n",
       "    </tr>\n",
       "    <tr>\n",
       "      <th>610667</th>\n",
       "      <td>243064k</td>\n",
       "      <td>Stellingen</td>\n",
       "      <td>0</td>\n",
       "      <td>2</td>\n",
       "      <td>2017-03-31 08:16:49</td>\n",
       "      <td>2017-03-31 08:17:28</td>\n",
       "      <td>STS</td>\n",
       "      <td>S3</td>\n",
       "      <td>ASTS</td>\n",
       "    </tr>\n",
       "    <tr>\n",
       "      <th>610668</th>\n",
       "      <td>243064k</td>\n",
       "      <td>Eidelstedt</td>\n",
       "      <td>0</td>\n",
       "      <td>0</td>\n",
       "      <td>2017-03-31 08:19:00</td>\n",
       "      <td>2017-03-31 08:19:41</td>\n",
       "      <td>EST</td>\n",
       "      <td>S3</td>\n",
       "      <td>AEST</td>\n",
       "    </tr>\n",
       "    <tr>\n",
       "      <th>610669</th>\n",
       "      <td>243064k</td>\n",
       "      <td>Elbgaustraße</td>\n",
       "      <td>0</td>\n",
       "      <td>1</td>\n",
       "      <td>2017-03-31 08:20:57</td>\n",
       "      <td>2017-03-31 08:24:11</td>\n",
       "      <td>EGS</td>\n",
       "      <td>S3</td>\n",
       "      <td>AEGS</td>\n",
       "    </tr>\n",
       "  </tbody>\n",
       "</table>\n",
       "<p>610670 rows × 9 columns</p>\n",
       "</div>"
      ],
      "text/plain": [
       "          Zugnr       Station  Einsteiger  Aussteiger  dtmIstAnkunftDatum   \n",
       "0        248206       Aumühle           0           0 2016-12-10 09:27:26  \\\n",
       "1        248206      Wohltorf           5           0 2016-12-10 09:31:36   \n",
       "2        248206       Reinbek           9           0 2016-12-10 09:34:09   \n",
       "3        248206     Bergedorf          43           5 2016-12-10 09:38:01   \n",
       "4        248206   Nettelnburg          10           7 2016-12-10 09:40:32   \n",
       "...         ...           ...         ...         ...                 ...   \n",
       "610665  243064k    Diebsteich           2           8 2017-03-31 08:13:03   \n",
       "610666  243064k   Langenfelde           0           0 2017-03-31 08:14:53   \n",
       "610667  243064k    Stellingen           0           2 2017-03-31 08:16:49   \n",
       "610668  243064k    Eidelstedt           0           0 2017-03-31 08:19:00   \n",
       "610669  243064k  Elbgaustraße           0           1 2017-03-31 08:20:57   \n",
       "\n",
       "        dtmIstAbfahrtDatum DS100 kurz strKurzbezeichnung DS100  \n",
       "0      2016-12-10 09:28:49         AH                S21   AAH  \n",
       "1      2016-12-10 09:31:55        WLF                S21  AWLF  \n",
       "2      2016-12-10 09:34:32        RBK                S21  ARBK  \n",
       "3      2016-12-10 09:38:32        BGS                S21  ABGS  \n",
       "4      2016-12-10 09:40:57        NTB                S21  ANTB  \n",
       "...                    ...        ...                ...   ...  \n",
       "610665 2017-03-31 08:13:41         DT                 S3   ADT  \n",
       "610666 2017-03-31 08:15:28        LST                 S3  ALST  \n",
       "610667 2017-03-31 08:17:28        STS                 S3  ASTS  \n",
       "610668 2017-03-31 08:19:41        EST                 S3  AEST  \n",
       "610669 2017-03-31 08:24:11        EGS                 S3  AEGS  \n",
       "\n",
       "[610670 rows x 9 columns]"
      ]
     },
     "execution_count": 16,
     "metadata": {},
     "output_type": "execute_result"
    }
   ],
   "source": [
    "df[\"DS100\"] = \"A\" + df[\"DS100 kurz\"]\n",
    "df"
   ]
  },
  {
   "cell_type": "markdown",
   "id": "5975213c",
   "metadata": {
    "slideshow": {
     "slide_type": "slide"
    }
   },
   "source": [
    "## Haltestellendaten\n",
    "### aus dem Open-Data-Portal der Deutschen Bahn AG\n",
    "\n",
    "Webseite zum Datensatz:<br>\n",
    "https://data.deutschebahn.com/dataset/data-haltestellen.html\n",
    "\n",
    "Übersicht Haltestellen DB Station&Service AG\n",
    "\n",
    "\n",
    "Link zum Datensatz:<br>\n",
    "https://download-data.deutschebahn.com/static/datasets/haltestellen/D_Bahnhof_2017_09.csv"
   ]
  },
  {
   "cell_type": "code",
   "execution_count": 17,
   "id": "5b3e3597",
   "metadata": {
    "scrolled": true,
    "slideshow": {
     "slide_type": "slide"
    }
   },
   "outputs": [
    {
     "name": "stdout",
     "output_type": "stream",
     "text": [
      "﻿EVA_NR;DS100;IFOPT;NAME;VERKEHR;LAENGE;BREITE;STATUS\r",
      "\r\n",
      "8000001;KA;de:05334:1008;Aachen Hbf;FV;6,09149900;50,7678000;\r",
      "\r\n",
      "8000002;TA;de:08136:1000;Aalen Hbf;FV;10,0962710;48,8410130;\r",
      "\r\n",
      "8000004;HA;de:05774:7131;Altenbeken;FV;8,94331900;51,7664330;\r",
      "\r\n",
      "8000007;FALZ;de:07331:55;Alzey;RV;8,10974900;49,7502000;\r",
      "\r\n",
      "8000009;NAN;de:09561:11000;Ansbach;FV;10,5782390;49,2980320;\r",
      "\r\n",
      "8000010;NAH;de:09661:99082;Aschaffenburg Hbf;FV;9,14369700;49,9805570;\r",
      "\r\n",
      "8000011;AAG;de:01057:3365;Ascheberg(Holst);RV;10,3394810;54,1484620;\r",
      "\r\n",
      "8000012;KAU;de:05382:59901;Au(Sieg);RV;7,65653700;50,7737650;\r",
      "\r\n",
      "8000013;MA;de:09761:100;Augsburg Hbf;FV;10,8855700;48,3654410;\r",
      "\r\n"
     ]
    }
   ],
   "source": [
    "!head D_Bahnhof_2017_09.csv"
   ]
  },
  {
   "cell_type": "code",
   "execution_count": 18,
   "id": "c7e8b52b",
   "metadata": {
    "slideshow": {
     "slide_type": "fragment"
    }
   },
   "outputs": [
    {
     "name": "stdout",
     "output_type": "stream",
     "text": [
      "8005444;MSMN;de:09772:7200;Schwabmünchen;RV;10,7682910;48,1786880;\r",
      "\r\n"
     ]
    }
   ],
   "source": [
    "!grep Schwabmünchen D_Bahnhof_2017_09.csv"
   ]
  },
  {
   "cell_type": "markdown",
   "id": "99cdb960",
   "metadata": {
    "slideshow": {
     "slide_type": "fragment"
    }
   },
   "source": [
    "* Encoding scheint UTF-8, also der Python-Standard, zu sein."
   ]
  },
  {
   "cell_type": "code",
   "execution_count": 19,
   "id": "40524cd0",
   "metadata": {
    "slideshow": {
     "slide_type": "slide"
    }
   },
   "outputs": [
    {
     "data": {
      "text/html": [
       "<div>\n",
       "<style scoped>\n",
       "    .dataframe tbody tr th:only-of-type {\n",
       "        vertical-align: middle;\n",
       "    }\n",
       "\n",
       "    .dataframe tbody tr th {\n",
       "        vertical-align: top;\n",
       "    }\n",
       "\n",
       "    .dataframe thead th {\n",
       "        text-align: right;\n",
       "    }\n",
       "</style>\n",
       "<table border=\"1\" class=\"dataframe\">\n",
       "  <thead>\n",
       "    <tr style=\"text-align: right;\">\n",
       "      <th></th>\n",
       "      <th>DS100</th>\n",
       "      <th>NAME</th>\n",
       "      <th>LAENGE</th>\n",
       "      <th>BREITE</th>\n",
       "    </tr>\n",
       "  </thead>\n",
       "  <tbody>\n",
       "    <tr>\n",
       "      <th>0</th>\n",
       "      <td>KA</td>\n",
       "      <td>Aachen Hbf</td>\n",
       "      <td>6.091499</td>\n",
       "      <td>50.767800</td>\n",
       "    </tr>\n",
       "    <tr>\n",
       "      <th>1</th>\n",
       "      <td>TA</td>\n",
       "      <td>Aalen Hbf</td>\n",
       "      <td>10.096271</td>\n",
       "      <td>48.841013</td>\n",
       "    </tr>\n",
       "    <tr>\n",
       "      <th>2</th>\n",
       "      <td>HA</td>\n",
       "      <td>Altenbeken</td>\n",
       "      <td>8.943319</td>\n",
       "      <td>51.766433</td>\n",
       "    </tr>\n",
       "    <tr>\n",
       "      <th>3</th>\n",
       "      <td>FALZ</td>\n",
       "      <td>Alzey</td>\n",
       "      <td>8.109749</td>\n",
       "      <td>49.750200</td>\n",
       "    </tr>\n",
       "    <tr>\n",
       "      <th>4</th>\n",
       "      <td>NAN</td>\n",
       "      <td>Ansbach</td>\n",
       "      <td>10.578239</td>\n",
       "      <td>49.298032</td>\n",
       "    </tr>\n",
       "    <tr>\n",
       "      <th>...</th>\n",
       "      <td>...</td>\n",
       "      <td>...</td>\n",
       "      <td>...</td>\n",
       "      <td>...</td>\n",
       "    </tr>\n",
       "    <tr>\n",
       "      <th>6600</th>\n",
       "      <td>MLQU</td>\n",
       "      <td>Langquaid(b Eggmühl)</td>\n",
       "      <td>12.053477</td>\n",
       "      <td>48.821058</td>\n",
       "    </tr>\n",
       "    <tr>\n",
       "      <th>6601</th>\n",
       "      <td>NaN</td>\n",
       "      <td>Bonn-Bad Godesberg Bahnhof</td>\n",
       "      <td>7.158776</td>\n",
       "      <td>50.683933</td>\n",
       "    </tr>\n",
       "    <tr>\n",
       "      <th>6602</th>\n",
       "      <td>NaN</td>\n",
       "      <td>Bonn-Beuel Bahnhof</td>\n",
       "      <td>7.127117</td>\n",
       "      <td>50.738512</td>\n",
       "    </tr>\n",
       "    <tr>\n",
       "      <th>6603</th>\n",
       "      <td>NaN</td>\n",
       "      <td>Rhöndorf Bahnhof</td>\n",
       "      <td>7.209805</td>\n",
       "      <td>50.657447</td>\n",
       "    </tr>\n",
       "    <tr>\n",
       "      <th>6604</th>\n",
       "      <td>AOPD</td>\n",
       "      <td>Oppendorf Bahnhof</td>\n",
       "      <td>10.208319</td>\n",
       "      <td>54.325961</td>\n",
       "    </tr>\n",
       "  </tbody>\n",
       "</table>\n",
       "<p>6605 rows × 4 columns</p>\n",
       "</div>"
      ],
      "text/plain": [
       "     DS100                        NAME     LAENGE     BREITE\n",
       "0       KA                  Aachen Hbf   6.091499  50.767800\n",
       "1       TA                   Aalen Hbf  10.096271  48.841013\n",
       "2       HA                  Altenbeken   8.943319  51.766433\n",
       "3     FALZ                       Alzey   8.109749  49.750200\n",
       "4      NAN                     Ansbach  10.578239  49.298032\n",
       "...    ...                         ...        ...        ...\n",
       "6600  MLQU        Langquaid(b Eggmühl)  12.053477  48.821058\n",
       "6601   NaN  Bonn-Bad Godesberg Bahnhof   7.158776  50.683933\n",
       "6602   NaN          Bonn-Beuel Bahnhof   7.127117  50.738512\n",
       "6603   NaN            Rhöndorf Bahnhof   7.209805  50.657447\n",
       "6604  AOPD           Oppendorf Bahnhof  10.208319  54.325961\n",
       "\n",
       "[6605 rows x 4 columns]"
      ]
     },
     "execution_count": 19,
     "metadata": {},
     "output_type": "execute_result"
    }
   ],
   "source": [
    "stationen = pd.read_csv('./D_Bahnhof_2017_09.csv',\n",
    "                        sep=';',\n",
    "                        decimal=',',  \n",
    "                        usecols=['DS100', 'NAME', 'LAENGE', 'BREITE'],\n",
    "                        dtype={'LAENGE': np.float64, 'BREITE': np.float64}\n",
    "                        )\n",
    "stationen"
   ]
  },
  {
   "cell_type": "markdown",
   "id": "7c0b621a",
   "metadata": {
    "slideshow": {
     "slide_type": "fragment"
    }
   },
   "source": [
    "* Es gibt Haltestelleneinträge ohne DS100-Code.\n",
    "* NaN = Not a Number"
   ]
  },
  {
   "cell_type": "markdown",
   "id": "15b7ce24",
   "metadata": {
    "slideshow": {
     "slide_type": "slide"
    }
   },
   "source": [
    "### Zusammenführen der S-Bahn-Daten und der Haltestellendaten\n",
    "\n",
    "* Haltestellendaten werden mit Hilfe der Spalte `DS100` zu den S-Bahn-Daten hinzugefügt."
   ]
  },
  {
   "cell_type": "code",
   "execution_count": 20,
   "id": "7e19d685",
   "metadata": {
    "slideshow": {
     "slide_type": "-"
    }
   },
   "outputs": [],
   "source": [
    "dfs = df.merge(stationen, how='left', on='DS100')"
   ]
  },
  {
   "cell_type": "code",
   "execution_count": 21,
   "id": "13818a2a",
   "metadata": {
    "slideshow": {
     "slide_type": "slide"
    }
   },
   "outputs": [
    {
     "data": {
      "text/html": [
       "<div>\n",
       "<style scoped>\n",
       "    .dataframe tbody tr th:only-of-type {\n",
       "        vertical-align: middle;\n",
       "    }\n",
       "\n",
       "    .dataframe tbody tr th {\n",
       "        vertical-align: top;\n",
       "    }\n",
       "\n",
       "    .dataframe thead th {\n",
       "        text-align: right;\n",
       "    }\n",
       "</style>\n",
       "<table border=\"1\" class=\"dataframe\">\n",
       "  <thead>\n",
       "    <tr style=\"text-align: right;\">\n",
       "      <th></th>\n",
       "      <th>Zugnr</th>\n",
       "      <th>Station</th>\n",
       "      <th>Einsteiger</th>\n",
       "      <th>Aussteiger</th>\n",
       "      <th>dtmIstAnkunftDatum</th>\n",
       "      <th>dtmIstAbfahrtDatum</th>\n",
       "      <th>DS100 kurz</th>\n",
       "      <th>strKurzbezeichnung</th>\n",
       "      <th>DS100</th>\n",
       "      <th>NAME</th>\n",
       "      <th>LAENGE</th>\n",
       "      <th>BREITE</th>\n",
       "    </tr>\n",
       "  </thead>\n",
       "  <tbody>\n",
       "    <tr>\n",
       "      <th>0</th>\n",
       "      <td>248206</td>\n",
       "      <td>Aumühle</td>\n",
       "      <td>0</td>\n",
       "      <td>0</td>\n",
       "      <td>2016-12-10 09:27:26</td>\n",
       "      <td>2016-12-10 09:28:49</td>\n",
       "      <td>AH</td>\n",
       "      <td>S21</td>\n",
       "      <td>AAH</td>\n",
       "      <td>NaN</td>\n",
       "      <td>NaN</td>\n",
       "      <td>NaN</td>\n",
       "    </tr>\n",
       "    <tr>\n",
       "      <th>1</th>\n",
       "      <td>248206</td>\n",
       "      <td>Wohltorf</td>\n",
       "      <td>5</td>\n",
       "      <td>0</td>\n",
       "      <td>2016-12-10 09:31:36</td>\n",
       "      <td>2016-12-10 09:31:55</td>\n",
       "      <td>WLF</td>\n",
       "      <td>S21</td>\n",
       "      <td>AWLF</td>\n",
       "      <td>Wohltorf</td>\n",
       "      <td>10.278184</td>\n",
       "      <td>53.520589</td>\n",
       "    </tr>\n",
       "    <tr>\n",
       "      <th>2</th>\n",
       "      <td>248206</td>\n",
       "      <td>Reinbek</td>\n",
       "      <td>9</td>\n",
       "      <td>0</td>\n",
       "      <td>2016-12-10 09:34:09</td>\n",
       "      <td>2016-12-10 09:34:32</td>\n",
       "      <td>RBK</td>\n",
       "      <td>S21</td>\n",
       "      <td>ARBK</td>\n",
       "      <td>Reinbek</td>\n",
       "      <td>10.253335</td>\n",
       "      <td>53.508395</td>\n",
       "    </tr>\n",
       "    <tr>\n",
       "      <th>3</th>\n",
       "      <td>248206</td>\n",
       "      <td>Bergedorf</td>\n",
       "      <td>43</td>\n",
       "      <td>5</td>\n",
       "      <td>2016-12-10 09:38:01</td>\n",
       "      <td>2016-12-10 09:38:32</td>\n",
       "      <td>BGS</td>\n",
       "      <td>S21</td>\n",
       "      <td>ABGS</td>\n",
       "      <td>Beringstedt</td>\n",
       "      <td>9.537501</td>\n",
       "      <td>54.113667</td>\n",
       "    </tr>\n",
       "    <tr>\n",
       "      <th>4</th>\n",
       "      <td>248206</td>\n",
       "      <td>Nettelnburg</td>\n",
       "      <td>10</td>\n",
       "      <td>7</td>\n",
       "      <td>2016-12-10 09:40:32</td>\n",
       "      <td>2016-12-10 09:40:57</td>\n",
       "      <td>NTB</td>\n",
       "      <td>S21</td>\n",
       "      <td>ANTB</td>\n",
       "      <td>Hamburg-Nettelnburg</td>\n",
       "      <td>10.181408</td>\n",
       "      <td>53.487888</td>\n",
       "    </tr>\n",
       "    <tr>\n",
       "      <th>...</th>\n",
       "      <td>...</td>\n",
       "      <td>...</td>\n",
       "      <td>...</td>\n",
       "      <td>...</td>\n",
       "      <td>...</td>\n",
       "      <td>...</td>\n",
       "      <td>...</td>\n",
       "      <td>...</td>\n",
       "      <td>...</td>\n",
       "      <td>...</td>\n",
       "      <td>...</td>\n",
       "      <td>...</td>\n",
       "    </tr>\n",
       "    <tr>\n",
       "      <th>610665</th>\n",
       "      <td>243064k</td>\n",
       "      <td>Diebsteich</td>\n",
       "      <td>2</td>\n",
       "      <td>8</td>\n",
       "      <td>2017-03-31 08:13:03</td>\n",
       "      <td>2017-03-31 08:13:41</td>\n",
       "      <td>DT</td>\n",
       "      <td>S3</td>\n",
       "      <td>ADT</td>\n",
       "      <td>Hamburg Diebsteich</td>\n",
       "      <td>9.934260</td>\n",
       "      <td>53.568569</td>\n",
       "    </tr>\n",
       "    <tr>\n",
       "      <th>610666</th>\n",
       "      <td>243064k</td>\n",
       "      <td>Langenfelde</td>\n",
       "      <td>0</td>\n",
       "      <td>0</td>\n",
       "      <td>2017-03-31 08:14:53</td>\n",
       "      <td>2017-03-31 08:15:28</td>\n",
       "      <td>LST</td>\n",
       "      <td>S3</td>\n",
       "      <td>ALST</td>\n",
       "      <td>Hamburg-Langenfelde</td>\n",
       "      <td>9.930920</td>\n",
       "      <td>53.579692</td>\n",
       "    </tr>\n",
       "    <tr>\n",
       "      <th>610667</th>\n",
       "      <td>243064k</td>\n",
       "      <td>Stellingen</td>\n",
       "      <td>0</td>\n",
       "      <td>2</td>\n",
       "      <td>2017-03-31 08:16:49</td>\n",
       "      <td>2017-03-31 08:17:28</td>\n",
       "      <td>STS</td>\n",
       "      <td>S3</td>\n",
       "      <td>ASTS</td>\n",
       "      <td>NaN</td>\n",
       "      <td>NaN</td>\n",
       "      <td>NaN</td>\n",
       "    </tr>\n",
       "    <tr>\n",
       "      <th>610668</th>\n",
       "      <td>243064k</td>\n",
       "      <td>Eidelstedt</td>\n",
       "      <td>0</td>\n",
       "      <td>0</td>\n",
       "      <td>2017-03-31 08:19:00</td>\n",
       "      <td>2017-03-31 08:19:41</td>\n",
       "      <td>EST</td>\n",
       "      <td>S3</td>\n",
       "      <td>AEST</td>\n",
       "      <td>NaN</td>\n",
       "      <td>NaN</td>\n",
       "      <td>NaN</td>\n",
       "    </tr>\n",
       "    <tr>\n",
       "      <th>610669</th>\n",
       "      <td>243064k</td>\n",
       "      <td>Elbgaustraße</td>\n",
       "      <td>0</td>\n",
       "      <td>1</td>\n",
       "      <td>2017-03-31 08:20:57</td>\n",
       "      <td>2017-03-31 08:24:11</td>\n",
       "      <td>EGS</td>\n",
       "      <td>S3</td>\n",
       "      <td>AEGS</td>\n",
       "      <td>Hamburg Elbgaustraße</td>\n",
       "      <td>9.893738</td>\n",
       "      <td>53.602575</td>\n",
       "    </tr>\n",
       "  </tbody>\n",
       "</table>\n",
       "<p>610670 rows × 12 columns</p>\n",
       "</div>"
      ],
      "text/plain": [
       "          Zugnr       Station  Einsteiger  Aussteiger  dtmIstAnkunftDatum   \n",
       "0        248206       Aumühle           0           0 2016-12-10 09:27:26  \\\n",
       "1        248206      Wohltorf           5           0 2016-12-10 09:31:36   \n",
       "2        248206       Reinbek           9           0 2016-12-10 09:34:09   \n",
       "3        248206     Bergedorf          43           5 2016-12-10 09:38:01   \n",
       "4        248206   Nettelnburg          10           7 2016-12-10 09:40:32   \n",
       "...         ...           ...         ...         ...                 ...   \n",
       "610665  243064k    Diebsteich           2           8 2017-03-31 08:13:03   \n",
       "610666  243064k   Langenfelde           0           0 2017-03-31 08:14:53   \n",
       "610667  243064k    Stellingen           0           2 2017-03-31 08:16:49   \n",
       "610668  243064k    Eidelstedt           0           0 2017-03-31 08:19:00   \n",
       "610669  243064k  Elbgaustraße           0           1 2017-03-31 08:20:57   \n",
       "\n",
       "        dtmIstAbfahrtDatum DS100 kurz strKurzbezeichnung DS100   \n",
       "0      2016-12-10 09:28:49         AH                S21   AAH  \\\n",
       "1      2016-12-10 09:31:55        WLF                S21  AWLF   \n",
       "2      2016-12-10 09:34:32        RBK                S21  ARBK   \n",
       "3      2016-12-10 09:38:32        BGS                S21  ABGS   \n",
       "4      2016-12-10 09:40:57        NTB                S21  ANTB   \n",
       "...                    ...        ...                ...   ...   \n",
       "610665 2017-03-31 08:13:41         DT                 S3   ADT   \n",
       "610666 2017-03-31 08:15:28        LST                 S3  ALST   \n",
       "610667 2017-03-31 08:17:28        STS                 S3  ASTS   \n",
       "610668 2017-03-31 08:19:41        EST                 S3  AEST   \n",
       "610669 2017-03-31 08:24:11        EGS                 S3  AEGS   \n",
       "\n",
       "                        NAME     LAENGE     BREITE  \n",
       "0                        NaN        NaN        NaN  \n",
       "1                   Wohltorf  10.278184  53.520589  \n",
       "2                    Reinbek  10.253335  53.508395  \n",
       "3                Beringstedt   9.537501  54.113667  \n",
       "4        Hamburg-Nettelnburg  10.181408  53.487888  \n",
       "...                      ...        ...        ...  \n",
       "610665    Hamburg Diebsteich   9.934260  53.568569  \n",
       "610666   Hamburg-Langenfelde   9.930920  53.579692  \n",
       "610667                   NaN        NaN        NaN  \n",
       "610668                   NaN        NaN        NaN  \n",
       "610669  Hamburg Elbgaustraße   9.893738  53.602575  \n",
       "\n",
       "[610670 rows x 12 columns]"
      ]
     },
     "execution_count": 21,
     "metadata": {},
     "output_type": "execute_result"
    }
   ],
   "source": [
    "dfs"
   ]
  },
  {
   "cell_type": "markdown",
   "id": "8918d1c1",
   "metadata": {
    "slideshow": {
     "slide_type": "fragment"
    }
   },
   "source": [
    "* Es gibt Datensätze, bei denen die Haltestellendaten nicht hinzugefügt wurden, z.B. in den Datensätzen 0, 610667 und 610668.\n",
    "* Was ist die Ursache?"
   ]
  },
  {
   "cell_type": "code",
   "execution_count": 22,
   "id": "e51b4869",
   "metadata": {
    "slideshow": {
     "slide_type": "slide"
    }
   },
   "outputs": [
    {
     "data": {
      "text/html": [
       "<div>\n",
       "<style scoped>\n",
       "    .dataframe tbody tr th:only-of-type {\n",
       "        vertical-align: middle;\n",
       "    }\n",
       "\n",
       "    .dataframe tbody tr th {\n",
       "        vertical-align: top;\n",
       "    }\n",
       "\n",
       "    .dataframe thead th {\n",
       "        text-align: right;\n",
       "    }\n",
       "</style>\n",
       "<table border=\"1\" class=\"dataframe\">\n",
       "  <thead>\n",
       "    <tr style=\"text-align: right;\">\n",
       "      <th></th>\n",
       "      <th>DS100</th>\n",
       "      <th>NAME</th>\n",
       "      <th>LAENGE</th>\n",
       "      <th>BREITE</th>\n",
       "    </tr>\n",
       "  </thead>\n",
       "  <tbody>\n",
       "    <tr>\n",
       "      <th>530</th>\n",
       "      <td>AAH,AAMS</td>\n",
       "      <td>Aumühle</td>\n",
       "      <td>10.314672</td>\n",
       "      <td>53.529853</td>\n",
       "    </tr>\n",
       "  </tbody>\n",
       "</table>\n",
       "</div>"
      ],
      "text/plain": [
       "        DS100     NAME     LAENGE     BREITE\n",
       "530  AAH,AAMS  Aumühle  10.314672  53.529853"
      ]
     },
     "execution_count": 22,
     "metadata": {},
     "output_type": "execute_result"
    }
   ],
   "source": [
    "stationen[stationen['NAME'] == 'Aumühle']"
   ]
  },
  {
   "cell_type": "markdown",
   "id": "2729ee2f",
   "metadata": {
    "slideshow": {
     "slide_type": "-"
    }
   },
   "source": [
    "* Es gibt Haltestellen mit zwei (oder womöglich noch mehr) DS100-Bezeichnern.\n",
    "* Spalte Einträge dieser Art in mehrere Einträge mit nur einem DS100-Bezeichner auf."
   ]
  },
  {
   "cell_type": "markdown",
   "id": "a1a6b8cb",
   "metadata": {
    "slideshow": {
     "slide_type": "fragment"
    }
   },
   "source": [
    "* Insbesondere bei großen Datensätzen sollte man Schleifen über einzelne Zeilen vermeiden.\n",
    "* Auch das Hinzufügen einzelner Datensätze kann aufwändig sein, da neue DataFrames erzeugt werden.\n",
    "* Nach Möglichkeit Operationen verwenden, die auf den gesamten Datensatz wirken."
   ]
  },
  {
   "cell_type": "markdown",
   "id": "9f7b8911",
   "metadata": {
    "slideshow": {
     "slide_type": "slide"
    }
   },
   "source": [
    "### Aufbereitung des Haltestellendatensatzes\n",
    "1. Entferne Zeilen aus dem Datensatz, die in der `DS100`-Spalte den Eintrag `NaN` enthalten.\n",
    "2. Zerlege die Zeichenketten in der `DS100`-Spalte in eine Liste mit ggf. mehreren DS100-Bezeichnern. Die Einträge sind durch Kommas getrennt.\n",
    "3. Schreibe das Ergebnis wieder in die `DS100`-Spalte.\n",
    "4. Lasse Zeilen mit mehreren DS100-Bezeichnern explodieren, d.h. erzeuge mehrere Zeilen mit jeweils nur einem DS100-Bezeichner."
   ]
  },
  {
   "cell_type": "code",
   "execution_count": 23,
   "id": "a74b5d03",
   "metadata": {
    "slideshow": {
     "slide_type": "fragment"
    }
   },
   "outputs": [],
   "source": [
    "stationen_ohne_nan = stationen.dropna(subset='DS100')\n",
    "spalte_ds100 = stationen_ohne_nan['DS100']\n",
    "stationen['DS100'] = spalte_ds100.map(lambda x: x.split(','))"
   ]
  },
  {
   "cell_type": "code",
   "execution_count": 24,
   "id": "ea752d3b",
   "metadata": {
    "slideshow": {
     "slide_type": "slide"
    }
   },
   "outputs": [
    {
     "data": {
      "text/html": [
       "<div>\n",
       "<style scoped>\n",
       "    .dataframe tbody tr th:only-of-type {\n",
       "        vertical-align: middle;\n",
       "    }\n",
       "\n",
       "    .dataframe tbody tr th {\n",
       "        vertical-align: top;\n",
       "    }\n",
       "\n",
       "    .dataframe thead th {\n",
       "        text-align: right;\n",
       "    }\n",
       "</style>\n",
       "<table border=\"1\" class=\"dataframe\">\n",
       "  <thead>\n",
       "    <tr style=\"text-align: right;\">\n",
       "      <th></th>\n",
       "      <th>DS100</th>\n",
       "      <th>NAME</th>\n",
       "      <th>LAENGE</th>\n",
       "      <th>BREITE</th>\n",
       "    </tr>\n",
       "  </thead>\n",
       "  <tbody>\n",
       "    <tr>\n",
       "      <th>697</th>\n",
       "      <td>[ABTS, ABTSB, ABTSL]</td>\n",
       "      <td>Hamburg Berliner Tor</td>\n",
       "      <td>10.02463</td>\n",
       "      <td>53.55287</td>\n",
       "    </tr>\n",
       "  </tbody>\n",
       "</table>\n",
       "</div>"
      ],
      "text/plain": [
       "                    DS100                  NAME    LAENGE    BREITE\n",
       "697  [ABTS, ABTSB, ABTSL]  Hamburg Berliner Tor  10.02463  53.55287"
      ]
     },
     "execution_count": 24,
     "metadata": {},
     "output_type": "execute_result"
    }
   ],
   "source": [
    "stationen[stationen['NAME'] == 'Hamburg Berliner Tor']"
   ]
  },
  {
   "cell_type": "code",
   "execution_count": 25,
   "id": "fcab88a8",
   "metadata": {
    "slideshow": {
     "slide_type": "fragment"
    }
   },
   "outputs": [
    {
     "data": {
      "text/html": [
       "<div>\n",
       "<style scoped>\n",
       "    .dataframe tbody tr th:only-of-type {\n",
       "        vertical-align: middle;\n",
       "    }\n",
       "\n",
       "    .dataframe tbody tr th {\n",
       "        vertical-align: top;\n",
       "    }\n",
       "\n",
       "    .dataframe thead th {\n",
       "        text-align: right;\n",
       "    }\n",
       "</style>\n",
       "<table border=\"1\" class=\"dataframe\">\n",
       "  <thead>\n",
       "    <tr style=\"text-align: right;\">\n",
       "      <th></th>\n",
       "      <th>DS100</th>\n",
       "      <th>NAME</th>\n",
       "      <th>LAENGE</th>\n",
       "      <th>BREITE</th>\n",
       "    </tr>\n",
       "  </thead>\n",
       "  <tbody>\n",
       "    <tr>\n",
       "      <th>697</th>\n",
       "      <td>ABTS</td>\n",
       "      <td>Hamburg Berliner Tor</td>\n",
       "      <td>10.02463</td>\n",
       "      <td>53.55287</td>\n",
       "    </tr>\n",
       "    <tr>\n",
       "      <th>697</th>\n",
       "      <td>ABTSB</td>\n",
       "      <td>Hamburg Berliner Tor</td>\n",
       "      <td>10.02463</td>\n",
       "      <td>53.55287</td>\n",
       "    </tr>\n",
       "    <tr>\n",
       "      <th>697</th>\n",
       "      <td>ABTSL</td>\n",
       "      <td>Hamburg Berliner Tor</td>\n",
       "      <td>10.02463</td>\n",
       "      <td>53.55287</td>\n",
       "    </tr>\n",
       "  </tbody>\n",
       "</table>\n",
       "</div>"
      ],
      "text/plain": [
       "     DS100                  NAME    LAENGE    BREITE\n",
       "697   ABTS  Hamburg Berliner Tor  10.02463  53.55287\n",
       "697  ABTSB  Hamburg Berliner Tor  10.02463  53.55287\n",
       "697  ABTSL  Hamburg Berliner Tor  10.02463  53.55287"
      ]
     },
     "execution_count": 25,
     "metadata": {},
     "output_type": "execute_result"
    }
   ],
   "source": [
    "stationen = stationen.explode('DS100')\n",
    "stationen[stationen['NAME'] == 'Hamburg Berliner Tor']"
   ]
  },
  {
   "cell_type": "code",
   "execution_count": 26,
   "id": "f503b8ce",
   "metadata": {
    "slideshow": {
     "slide_type": "fragment"
    }
   },
   "outputs": [],
   "source": [
    "dfs = df.merge(stationen, how='left', on='DS100')"
   ]
  },
  {
   "cell_type": "code",
   "execution_count": 27,
   "id": "e4f86514",
   "metadata": {
    "slideshow": {
     "slide_type": "subslide"
    }
   },
   "outputs": [
    {
     "data": {
      "text/html": [
       "<div>\n",
       "<style scoped>\n",
       "    .dataframe tbody tr th:only-of-type {\n",
       "        vertical-align: middle;\n",
       "    }\n",
       "\n",
       "    .dataframe tbody tr th {\n",
       "        vertical-align: top;\n",
       "    }\n",
       "\n",
       "    .dataframe thead th {\n",
       "        text-align: right;\n",
       "    }\n",
       "</style>\n",
       "<table border=\"1\" class=\"dataframe\">\n",
       "  <thead>\n",
       "    <tr style=\"text-align: right;\">\n",
       "      <th></th>\n",
       "      <th>Zugnr</th>\n",
       "      <th>Station</th>\n",
       "      <th>Einsteiger</th>\n",
       "      <th>Aussteiger</th>\n",
       "      <th>dtmIstAnkunftDatum</th>\n",
       "      <th>dtmIstAbfahrtDatum</th>\n",
       "      <th>DS100 kurz</th>\n",
       "      <th>strKurzbezeichnung</th>\n",
       "      <th>DS100</th>\n",
       "      <th>NAME</th>\n",
       "      <th>LAENGE</th>\n",
       "      <th>BREITE</th>\n",
       "    </tr>\n",
       "  </thead>\n",
       "  <tbody>\n",
       "    <tr>\n",
       "      <th>0</th>\n",
       "      <td>248206</td>\n",
       "      <td>Aumühle</td>\n",
       "      <td>0</td>\n",
       "      <td>0</td>\n",
       "      <td>2016-12-10 09:27:26</td>\n",
       "      <td>2016-12-10 09:28:49</td>\n",
       "      <td>AH</td>\n",
       "      <td>S21</td>\n",
       "      <td>AAH</td>\n",
       "      <td>Aumühle</td>\n",
       "      <td>10.314672</td>\n",
       "      <td>53.529853</td>\n",
       "    </tr>\n",
       "    <tr>\n",
       "      <th>1</th>\n",
       "      <td>248206</td>\n",
       "      <td>Wohltorf</td>\n",
       "      <td>5</td>\n",
       "      <td>0</td>\n",
       "      <td>2016-12-10 09:31:36</td>\n",
       "      <td>2016-12-10 09:31:55</td>\n",
       "      <td>WLF</td>\n",
       "      <td>S21</td>\n",
       "      <td>AWLF</td>\n",
       "      <td>Wohltorf</td>\n",
       "      <td>10.278184</td>\n",
       "      <td>53.520589</td>\n",
       "    </tr>\n",
       "    <tr>\n",
       "      <th>2</th>\n",
       "      <td>248206</td>\n",
       "      <td>Reinbek</td>\n",
       "      <td>9</td>\n",
       "      <td>0</td>\n",
       "      <td>2016-12-10 09:34:09</td>\n",
       "      <td>2016-12-10 09:34:32</td>\n",
       "      <td>RBK</td>\n",
       "      <td>S21</td>\n",
       "      <td>ARBK</td>\n",
       "      <td>Reinbek</td>\n",
       "      <td>10.253335</td>\n",
       "      <td>53.508395</td>\n",
       "    </tr>\n",
       "    <tr>\n",
       "      <th>3</th>\n",
       "      <td>248206</td>\n",
       "      <td>Bergedorf</td>\n",
       "      <td>43</td>\n",
       "      <td>5</td>\n",
       "      <td>2016-12-10 09:38:01</td>\n",
       "      <td>2016-12-10 09:38:32</td>\n",
       "      <td>BGS</td>\n",
       "      <td>S21</td>\n",
       "      <td>ABGS</td>\n",
       "      <td>Beringstedt</td>\n",
       "      <td>9.537501</td>\n",
       "      <td>54.113667</td>\n",
       "    </tr>\n",
       "    <tr>\n",
       "      <th>4</th>\n",
       "      <td>248206</td>\n",
       "      <td>Nettelnburg</td>\n",
       "      <td>10</td>\n",
       "      <td>7</td>\n",
       "      <td>2016-12-10 09:40:32</td>\n",
       "      <td>2016-12-10 09:40:57</td>\n",
       "      <td>NTB</td>\n",
       "      <td>S21</td>\n",
       "      <td>ANTB</td>\n",
       "      <td>Hamburg-Nettelnburg</td>\n",
       "      <td>10.181408</td>\n",
       "      <td>53.487888</td>\n",
       "    </tr>\n",
       "    <tr>\n",
       "      <th>...</th>\n",
       "      <td>...</td>\n",
       "      <td>...</td>\n",
       "      <td>...</td>\n",
       "      <td>...</td>\n",
       "      <td>...</td>\n",
       "      <td>...</td>\n",
       "      <td>...</td>\n",
       "      <td>...</td>\n",
       "      <td>...</td>\n",
       "      <td>...</td>\n",
       "      <td>...</td>\n",
       "      <td>...</td>\n",
       "    </tr>\n",
       "    <tr>\n",
       "      <th>610665</th>\n",
       "      <td>243064k</td>\n",
       "      <td>Diebsteich</td>\n",
       "      <td>2</td>\n",
       "      <td>8</td>\n",
       "      <td>2017-03-31 08:13:03</td>\n",
       "      <td>2017-03-31 08:13:41</td>\n",
       "      <td>DT</td>\n",
       "      <td>S3</td>\n",
       "      <td>ADT</td>\n",
       "      <td>Hamburg Diebsteich</td>\n",
       "      <td>9.934260</td>\n",
       "      <td>53.568569</td>\n",
       "    </tr>\n",
       "    <tr>\n",
       "      <th>610666</th>\n",
       "      <td>243064k</td>\n",
       "      <td>Langenfelde</td>\n",
       "      <td>0</td>\n",
       "      <td>0</td>\n",
       "      <td>2017-03-31 08:14:53</td>\n",
       "      <td>2017-03-31 08:15:28</td>\n",
       "      <td>LST</td>\n",
       "      <td>S3</td>\n",
       "      <td>ALST</td>\n",
       "      <td>Hamburg-Langenfelde</td>\n",
       "      <td>9.930920</td>\n",
       "      <td>53.579692</td>\n",
       "    </tr>\n",
       "    <tr>\n",
       "      <th>610667</th>\n",
       "      <td>243064k</td>\n",
       "      <td>Stellingen</td>\n",
       "      <td>0</td>\n",
       "      <td>2</td>\n",
       "      <td>2017-03-31 08:16:49</td>\n",
       "      <td>2017-03-31 08:17:28</td>\n",
       "      <td>STS</td>\n",
       "      <td>S3</td>\n",
       "      <td>ASTS</td>\n",
       "      <td>Hamburg-Stellingen</td>\n",
       "      <td>9.918336</td>\n",
       "      <td>53.589843</td>\n",
       "    </tr>\n",
       "    <tr>\n",
       "      <th>610668</th>\n",
       "      <td>243064k</td>\n",
       "      <td>Eidelstedt</td>\n",
       "      <td>0</td>\n",
       "      <td>0</td>\n",
       "      <td>2017-03-31 08:19:00</td>\n",
       "      <td>2017-03-31 08:19:41</td>\n",
       "      <td>EST</td>\n",
       "      <td>S3</td>\n",
       "      <td>AEST</td>\n",
       "      <td>Hamburg-Eidelstedt</td>\n",
       "      <td>9.907097</td>\n",
       "      <td>53.595887</td>\n",
       "    </tr>\n",
       "    <tr>\n",
       "      <th>610669</th>\n",
       "      <td>243064k</td>\n",
       "      <td>Elbgaustraße</td>\n",
       "      <td>0</td>\n",
       "      <td>1</td>\n",
       "      <td>2017-03-31 08:20:57</td>\n",
       "      <td>2017-03-31 08:24:11</td>\n",
       "      <td>EGS</td>\n",
       "      <td>S3</td>\n",
       "      <td>AEGS</td>\n",
       "      <td>Hamburg Elbgaustraße</td>\n",
       "      <td>9.893738</td>\n",
       "      <td>53.602575</td>\n",
       "    </tr>\n",
       "  </tbody>\n",
       "</table>\n",
       "<p>610670 rows × 12 columns</p>\n",
       "</div>"
      ],
      "text/plain": [
       "          Zugnr       Station  Einsteiger  Aussteiger  dtmIstAnkunftDatum   \n",
       "0        248206       Aumühle           0           0 2016-12-10 09:27:26  \\\n",
       "1        248206      Wohltorf           5           0 2016-12-10 09:31:36   \n",
       "2        248206       Reinbek           9           0 2016-12-10 09:34:09   \n",
       "3        248206     Bergedorf          43           5 2016-12-10 09:38:01   \n",
       "4        248206   Nettelnburg          10           7 2016-12-10 09:40:32   \n",
       "...         ...           ...         ...         ...                 ...   \n",
       "610665  243064k    Diebsteich           2           8 2017-03-31 08:13:03   \n",
       "610666  243064k   Langenfelde           0           0 2017-03-31 08:14:53   \n",
       "610667  243064k    Stellingen           0           2 2017-03-31 08:16:49   \n",
       "610668  243064k    Eidelstedt           0           0 2017-03-31 08:19:00   \n",
       "610669  243064k  Elbgaustraße           0           1 2017-03-31 08:20:57   \n",
       "\n",
       "        dtmIstAbfahrtDatum DS100 kurz strKurzbezeichnung DS100   \n",
       "0      2016-12-10 09:28:49         AH                S21   AAH  \\\n",
       "1      2016-12-10 09:31:55        WLF                S21  AWLF   \n",
       "2      2016-12-10 09:34:32        RBK                S21  ARBK   \n",
       "3      2016-12-10 09:38:32        BGS                S21  ABGS   \n",
       "4      2016-12-10 09:40:57        NTB                S21  ANTB   \n",
       "...                    ...        ...                ...   ...   \n",
       "610665 2017-03-31 08:13:41         DT                 S3   ADT   \n",
       "610666 2017-03-31 08:15:28        LST                 S3  ALST   \n",
       "610667 2017-03-31 08:17:28        STS                 S3  ASTS   \n",
       "610668 2017-03-31 08:19:41        EST                 S3  AEST   \n",
       "610669 2017-03-31 08:24:11        EGS                 S3  AEGS   \n",
       "\n",
       "                        NAME     LAENGE     BREITE  \n",
       "0                    Aumühle  10.314672  53.529853  \n",
       "1                   Wohltorf  10.278184  53.520589  \n",
       "2                    Reinbek  10.253335  53.508395  \n",
       "3                Beringstedt   9.537501  54.113667  \n",
       "4        Hamburg-Nettelnburg  10.181408  53.487888  \n",
       "...                      ...        ...        ...  \n",
       "610665    Hamburg Diebsteich   9.934260  53.568569  \n",
       "610666   Hamburg-Langenfelde   9.930920  53.579692  \n",
       "610667    Hamburg-Stellingen   9.918336  53.589843  \n",
       "610668    Hamburg-Eidelstedt   9.907097  53.595887  \n",
       "610669  Hamburg Elbgaustraße   9.893738  53.602575  \n",
       "\n",
       "[610670 rows x 12 columns]"
      ]
     },
     "execution_count": 27,
     "metadata": {},
     "output_type": "execute_result"
    }
   ],
   "source": [
    "dfs"
   ]
  },
  {
   "cell_type": "markdown",
   "id": "c7fd7991",
   "metadata": {
    "slideshow": {
     "slide_type": "slide"
    }
   },
   "source": [
    "\n",
    "### Welche S-Bahnen gibt es in Hamburg?"
   ]
  },
  {
   "cell_type": "code",
   "execution_count": 28,
   "id": "cea385af",
   "metadata": {
    "slideshow": {
     "slide_type": "-"
    }
   },
   "outputs": [
    {
     "data": {
      "text/plain": [
       "array(['S21', 'S1', 'S31', 'S3', 'S11', 'S2', 'S21A'], dtype=object)"
      ]
     },
     "execution_count": 28,
     "metadata": {},
     "output_type": "execute_result"
    }
   ],
   "source": [
    "dfs['strKurzbezeichnung'].unique()"
   ]
  },
  {
   "cell_type": "markdown",
   "id": "d8b29a79",
   "metadata": {
    "slideshow": {
     "slide_type": "slide"
    }
   },
   "source": [
    "### Linienführung der S21"
   ]
  },
  {
   "cell_type": "code",
   "execution_count": 29,
   "id": "43981436",
   "metadata": {
    "slideshow": {
     "slide_type": "-"
    }
   },
   "outputs": [
    {
     "data": {
      "text/html": [
       "<div>\n",
       "<style scoped>\n",
       "    .dataframe tbody tr th:only-of-type {\n",
       "        vertical-align: middle;\n",
       "    }\n",
       "\n",
       "    .dataframe tbody tr th {\n",
       "        vertical-align: top;\n",
       "    }\n",
       "\n",
       "    .dataframe thead th {\n",
       "        text-align: right;\n",
       "    }\n",
       "</style>\n",
       "<table border=\"1\" class=\"dataframe\">\n",
       "  <thead>\n",
       "    <tr style=\"text-align: right;\">\n",
       "      <th></th>\n",
       "      <th>Zugnr</th>\n",
       "      <th>Station</th>\n",
       "      <th>strKurzbezeichnung</th>\n",
       "    </tr>\n",
       "  </thead>\n",
       "  <tbody>\n",
       "    <tr>\n",
       "      <th>0</th>\n",
       "      <td>248206</td>\n",
       "      <td>Aumühle</td>\n",
       "      <td>S21</td>\n",
       "    </tr>\n",
       "    <tr>\n",
       "      <th>1</th>\n",
       "      <td>248206</td>\n",
       "      <td>Wohltorf</td>\n",
       "      <td>S21</td>\n",
       "    </tr>\n",
       "    <tr>\n",
       "      <th>2</th>\n",
       "      <td>248206</td>\n",
       "      <td>Reinbek</td>\n",
       "      <td>S21</td>\n",
       "    </tr>\n",
       "    <tr>\n",
       "      <th>3</th>\n",
       "      <td>248206</td>\n",
       "      <td>Bergedorf</td>\n",
       "      <td>S21</td>\n",
       "    </tr>\n",
       "    <tr>\n",
       "      <th>4</th>\n",
       "      <td>248206</td>\n",
       "      <td>Nettelnburg</td>\n",
       "      <td>S21</td>\n",
       "    </tr>\n",
       "  </tbody>\n",
       "</table>\n",
       "</div>"
      ],
      "text/plain": [
       "    Zugnr      Station strKurzbezeichnung\n",
       "0  248206      Aumühle                S21\n",
       "1  248206     Wohltorf                S21\n",
       "2  248206      Reinbek                S21\n",
       "3  248206    Bergedorf                S21\n",
       "4  248206  Nettelnburg                S21"
      ]
     },
     "execution_count": 29,
     "metadata": {},
     "output_type": "execute_result"
    }
   ],
   "source": [
    "dfs.loc[:4, ['Zugnr', 'Station', 'strKurzbezeichnung']]"
   ]
  },
  {
   "cell_type": "code",
   "execution_count": 30,
   "id": "27773726",
   "metadata": {},
   "outputs": [
    {
     "data": {
      "text/html": [
       "<div>\n",
       "<style scoped>\n",
       "    .dataframe tbody tr th:only-of-type {\n",
       "        vertical-align: middle;\n",
       "    }\n",
       "\n",
       "    .dataframe tbody tr th {\n",
       "        vertical-align: top;\n",
       "    }\n",
       "\n",
       "    .dataframe thead th {\n",
       "        text-align: right;\n",
       "    }\n",
       "</style>\n",
       "<table border=\"1\" class=\"dataframe\">\n",
       "  <thead>\n",
       "    <tr style=\"text-align: right;\">\n",
       "      <th></th>\n",
       "      <th>Zugnr</th>\n",
       "      <th>Station</th>\n",
       "      <th>strKurzbezeichnung</th>\n",
       "    </tr>\n",
       "  </thead>\n",
       "  <tbody>\n",
       "    <tr>\n",
       "      <th>17</th>\n",
       "      <td>248206</td>\n",
       "      <td>Stellingen</td>\n",
       "      <td>S21</td>\n",
       "    </tr>\n",
       "    <tr>\n",
       "      <th>18</th>\n",
       "      <td>248206</td>\n",
       "      <td>Eidelstedt</td>\n",
       "      <td>S21</td>\n",
       "    </tr>\n",
       "    <tr>\n",
       "      <th>19</th>\n",
       "      <td>248206</td>\n",
       "      <td>Elbgaustraße</td>\n",
       "      <td>S21</td>\n",
       "    </tr>\n",
       "    <tr>\n",
       "      <th>20</th>\n",
       "      <td>248233</td>\n",
       "      <td>Elbgaustraße</td>\n",
       "      <td>S21</td>\n",
       "    </tr>\n",
       "    <tr>\n",
       "      <th>21</th>\n",
       "      <td>248233</td>\n",
       "      <td>Eidelstedt</td>\n",
       "      <td>S21</td>\n",
       "    </tr>\n",
       "    <tr>\n",
       "      <th>22</th>\n",
       "      <td>248233</td>\n",
       "      <td>Stellingen</td>\n",
       "      <td>S21</td>\n",
       "    </tr>\n",
       "  </tbody>\n",
       "</table>\n",
       "</div>"
      ],
      "text/plain": [
       "     Zugnr       Station strKurzbezeichnung\n",
       "17  248206    Stellingen                S21\n",
       "18  248206    Eidelstedt                S21\n",
       "19  248206  Elbgaustraße                S21\n",
       "20  248233  Elbgaustraße                S21\n",
       "21  248233    Eidelstedt                S21\n",
       "22  248233    Stellingen                S21"
      ]
     },
     "execution_count": 30,
     "metadata": {},
     "output_type": "execute_result"
    }
   ],
   "source": [
    "dfs.loc[17:22, ['Zugnr', 'Station', 'strKurzbezeichnung']]"
   ]
  },
  {
   "cell_type": "code",
   "execution_count": 31,
   "id": "92e0ca25",
   "metadata": {
    "slideshow": {
     "slide_type": "slide"
    }
   },
   "outputs": [
    {
     "data": {
      "text/html": [
       "<div>\n",
       "<style scoped>\n",
       "    .dataframe tbody tr th:only-of-type {\n",
       "        vertical-align: middle;\n",
       "    }\n",
       "\n",
       "    .dataframe tbody tr th {\n",
       "        vertical-align: top;\n",
       "    }\n",
       "\n",
       "    .dataframe thead th {\n",
       "        text-align: right;\n",
       "    }\n",
       "</style>\n",
       "<table border=\"1\" class=\"dataframe\">\n",
       "  <thead>\n",
       "    <tr style=\"text-align: right;\">\n",
       "      <th></th>\n",
       "      <th>Zugnr</th>\n",
       "      <th>Station</th>\n",
       "      <th>Einsteiger</th>\n",
       "      <th>Aussteiger</th>\n",
       "      <th>dtmIstAnkunftDatum</th>\n",
       "      <th>dtmIstAbfahrtDatum</th>\n",
       "      <th>DS100 kurz</th>\n",
       "      <th>strKurzbezeichnung</th>\n",
       "      <th>DS100</th>\n",
       "      <th>NAME</th>\n",
       "      <th>LAENGE</th>\n",
       "      <th>BREITE</th>\n",
       "    </tr>\n",
       "  </thead>\n",
       "  <tbody>\n",
       "    <tr>\n",
       "      <th>0</th>\n",
       "      <td>248206</td>\n",
       "      <td>Aumühle</td>\n",
       "      <td>0</td>\n",
       "      <td>0</td>\n",
       "      <td>2016-12-10 09:27:26</td>\n",
       "      <td>2016-12-10 09:28:49</td>\n",
       "      <td>AH</td>\n",
       "      <td>S21</td>\n",
       "      <td>AAH</td>\n",
       "      <td>Aumühle</td>\n",
       "      <td>10.314672</td>\n",
       "      <td>53.529853</td>\n",
       "    </tr>\n",
       "    <tr>\n",
       "      <th>1</th>\n",
       "      <td>248206</td>\n",
       "      <td>Wohltorf</td>\n",
       "      <td>5</td>\n",
       "      <td>0</td>\n",
       "      <td>2016-12-10 09:31:36</td>\n",
       "      <td>2016-12-10 09:31:55</td>\n",
       "      <td>WLF</td>\n",
       "      <td>S21</td>\n",
       "      <td>AWLF</td>\n",
       "      <td>Wohltorf</td>\n",
       "      <td>10.278184</td>\n",
       "      <td>53.520589</td>\n",
       "    </tr>\n",
       "    <tr>\n",
       "      <th>2</th>\n",
       "      <td>248206</td>\n",
       "      <td>Reinbek</td>\n",
       "      <td>9</td>\n",
       "      <td>0</td>\n",
       "      <td>2016-12-10 09:34:09</td>\n",
       "      <td>2016-12-10 09:34:32</td>\n",
       "      <td>RBK</td>\n",
       "      <td>S21</td>\n",
       "      <td>ARBK</td>\n",
       "      <td>Reinbek</td>\n",
       "      <td>10.253335</td>\n",
       "      <td>53.508395</td>\n",
       "    </tr>\n",
       "    <tr>\n",
       "      <th>3</th>\n",
       "      <td>248206</td>\n",
       "      <td>Bergedorf</td>\n",
       "      <td>43</td>\n",
       "      <td>5</td>\n",
       "      <td>2016-12-10 09:38:01</td>\n",
       "      <td>2016-12-10 09:38:32</td>\n",
       "      <td>BGS</td>\n",
       "      <td>S21</td>\n",
       "      <td>ABGS</td>\n",
       "      <td>Beringstedt</td>\n",
       "      <td>9.537501</td>\n",
       "      <td>54.113667</td>\n",
       "    </tr>\n",
       "    <tr>\n",
       "      <th>4</th>\n",
       "      <td>248206</td>\n",
       "      <td>Nettelnburg</td>\n",
       "      <td>10</td>\n",
       "      <td>7</td>\n",
       "      <td>2016-12-10 09:40:32</td>\n",
       "      <td>2016-12-10 09:40:57</td>\n",
       "      <td>NTB</td>\n",
       "      <td>S21</td>\n",
       "      <td>ANTB</td>\n",
       "      <td>Hamburg-Nettelnburg</td>\n",
       "      <td>10.181408</td>\n",
       "      <td>53.487888</td>\n",
       "    </tr>\n",
       "    <tr>\n",
       "      <th>...</th>\n",
       "      <td>...</td>\n",
       "      <td>...</td>\n",
       "      <td>...</td>\n",
       "      <td>...</td>\n",
       "      <td>...</td>\n",
       "      <td>...</td>\n",
       "      <td>...</td>\n",
       "      <td>...</td>\n",
       "      <td>...</td>\n",
       "      <td>...</td>\n",
       "      <td>...</td>\n",
       "      <td>...</td>\n",
       "    </tr>\n",
       "    <tr>\n",
       "      <th>586577</th>\n",
       "      <td>248206</td>\n",
       "      <td>Diebsteich</td>\n",
       "      <td>3</td>\n",
       "      <td>20</td>\n",
       "      <td>2017-03-28 10:10:11</td>\n",
       "      <td>2017-03-28 10:10:38</td>\n",
       "      <td>DT</td>\n",
       "      <td>S21</td>\n",
       "      <td>ADT</td>\n",
       "      <td>Hamburg Diebsteich</td>\n",
       "      <td>9.934260</td>\n",
       "      <td>53.568569</td>\n",
       "    </tr>\n",
       "    <tr>\n",
       "      <th>586578</th>\n",
       "      <td>248206</td>\n",
       "      <td>Langenfelde</td>\n",
       "      <td>4</td>\n",
       "      <td>4</td>\n",
       "      <td>2017-03-28 10:12:03</td>\n",
       "      <td>2017-03-28 10:12:27</td>\n",
       "      <td>LST</td>\n",
       "      <td>S21</td>\n",
       "      <td>ALST</td>\n",
       "      <td>Hamburg-Langenfelde</td>\n",
       "      <td>9.930920</td>\n",
       "      <td>53.579692</td>\n",
       "    </tr>\n",
       "    <tr>\n",
       "      <th>586579</th>\n",
       "      <td>248206</td>\n",
       "      <td>Stellingen</td>\n",
       "      <td>3</td>\n",
       "      <td>7</td>\n",
       "      <td>2017-03-28 10:14:00</td>\n",
       "      <td>2017-03-28 10:14:26</td>\n",
       "      <td>STS</td>\n",
       "      <td>S21</td>\n",
       "      <td>ASTS</td>\n",
       "      <td>Hamburg-Stellingen</td>\n",
       "      <td>9.918336</td>\n",
       "      <td>53.589843</td>\n",
       "    </tr>\n",
       "    <tr>\n",
       "      <th>586580</th>\n",
       "      <td>248206</td>\n",
       "      <td>Eidelstedt</td>\n",
       "      <td>1</td>\n",
       "      <td>6</td>\n",
       "      <td>2017-03-28 10:15:50</td>\n",
       "      <td>2017-03-28 10:16:14</td>\n",
       "      <td>EST</td>\n",
       "      <td>S21</td>\n",
       "      <td>AEST</td>\n",
       "      <td>Hamburg-Eidelstedt</td>\n",
       "      <td>9.907097</td>\n",
       "      <td>53.595887</td>\n",
       "    </tr>\n",
       "    <tr>\n",
       "      <th>586581</th>\n",
       "      <td>248206</td>\n",
       "      <td>Elbgaustraße</td>\n",
       "      <td>0</td>\n",
       "      <td>8</td>\n",
       "      <td>2017-03-28 10:17:43</td>\n",
       "      <td>2017-03-28 10:19:00</td>\n",
       "      <td>EGS</td>\n",
       "      <td>S21</td>\n",
       "      <td>AEGS</td>\n",
       "      <td>Hamburg Elbgaustraße</td>\n",
       "      <td>9.893738</td>\n",
       "      <td>53.602575</td>\n",
       "    </tr>\n",
       "  </tbody>\n",
       "</table>\n",
       "<p>540 rows × 12 columns</p>\n",
       "</div>"
      ],
      "text/plain": [
       "         Zugnr       Station  Einsteiger  Aussteiger  dtmIstAnkunftDatum   \n",
       "0       248206       Aumühle           0           0 2016-12-10 09:27:26  \\\n",
       "1       248206      Wohltorf           5           0 2016-12-10 09:31:36   \n",
       "2       248206       Reinbek           9           0 2016-12-10 09:34:09   \n",
       "3       248206     Bergedorf          43           5 2016-12-10 09:38:01   \n",
       "4       248206   Nettelnburg          10           7 2016-12-10 09:40:32   \n",
       "...        ...           ...         ...         ...                 ...   \n",
       "586577  248206    Diebsteich           3          20 2017-03-28 10:10:11   \n",
       "586578  248206   Langenfelde           4           4 2017-03-28 10:12:03   \n",
       "586579  248206    Stellingen           3           7 2017-03-28 10:14:00   \n",
       "586580  248206    Eidelstedt           1           6 2017-03-28 10:15:50   \n",
       "586581  248206  Elbgaustraße           0           8 2017-03-28 10:17:43   \n",
       "\n",
       "        dtmIstAbfahrtDatum DS100 kurz strKurzbezeichnung DS100   \n",
       "0      2016-12-10 09:28:49         AH                S21   AAH  \\\n",
       "1      2016-12-10 09:31:55        WLF                S21  AWLF   \n",
       "2      2016-12-10 09:34:32        RBK                S21  ARBK   \n",
       "3      2016-12-10 09:38:32        BGS                S21  ABGS   \n",
       "4      2016-12-10 09:40:57        NTB                S21  ANTB   \n",
       "...                    ...        ...                ...   ...   \n",
       "586577 2017-03-28 10:10:38         DT                S21   ADT   \n",
       "586578 2017-03-28 10:12:27        LST                S21  ALST   \n",
       "586579 2017-03-28 10:14:26        STS                S21  ASTS   \n",
       "586580 2017-03-28 10:16:14        EST                S21  AEST   \n",
       "586581 2017-03-28 10:19:00        EGS                S21  AEGS   \n",
       "\n",
       "                        NAME     LAENGE     BREITE  \n",
       "0                    Aumühle  10.314672  53.529853  \n",
       "1                   Wohltorf  10.278184  53.520589  \n",
       "2                    Reinbek  10.253335  53.508395  \n",
       "3                Beringstedt   9.537501  54.113667  \n",
       "4        Hamburg-Nettelnburg  10.181408  53.487888  \n",
       "...                      ...        ...        ...  \n",
       "586577    Hamburg Diebsteich   9.934260  53.568569  \n",
       "586578   Hamburg-Langenfelde   9.930920  53.579692  \n",
       "586579    Hamburg-Stellingen   9.918336  53.589843  \n",
       "586580    Hamburg-Eidelstedt   9.907097  53.595887  \n",
       "586581  Hamburg Elbgaustraße   9.893738  53.602575  \n",
       "\n",
       "[540 rows x 12 columns]"
      ]
     },
     "execution_count": 31,
     "metadata": {},
     "output_type": "execute_result"
    }
   ],
   "source": [
    "dfs.query(\"Zugnr == '248206'\")"
   ]
  },
  {
   "cell_type": "code",
   "execution_count": 32,
   "id": "5afdc58a",
   "metadata": {
    "slideshow": {
     "slide_type": "subslide"
    }
   },
   "outputs": [
    {
     "data": {
      "text/html": [
       "<div>\n",
       "<style scoped>\n",
       "    .dataframe tbody tr th:only-of-type {\n",
       "        vertical-align: middle;\n",
       "    }\n",
       "\n",
       "    .dataframe tbody tr th {\n",
       "        vertical-align: top;\n",
       "    }\n",
       "\n",
       "    .dataframe thead th {\n",
       "        text-align: right;\n",
       "    }\n",
       "</style>\n",
       "<table border=\"1\" class=\"dataframe\">\n",
       "  <thead>\n",
       "    <tr style=\"text-align: right;\">\n",
       "      <th></th>\n",
       "      <th>Zugnr</th>\n",
       "      <th>Station</th>\n",
       "      <th>Einsteiger</th>\n",
       "      <th>Aussteiger</th>\n",
       "      <th>dtmIstAnkunftDatum</th>\n",
       "      <th>dtmIstAbfahrtDatum</th>\n",
       "      <th>DS100 kurz</th>\n",
       "      <th>strKurzbezeichnung</th>\n",
       "      <th>DS100</th>\n",
       "      <th>NAME</th>\n",
       "      <th>LAENGE</th>\n",
       "      <th>BREITE</th>\n",
       "    </tr>\n",
       "  </thead>\n",
       "  <tbody>\n",
       "    <tr>\n",
       "      <th>0</th>\n",
       "      <td>248206</td>\n",
       "      <td>Aumühle</td>\n",
       "      <td>0</td>\n",
       "      <td>0</td>\n",
       "      <td>2016-12-10 09:27:26</td>\n",
       "      <td>2016-12-10 09:28:49</td>\n",
       "      <td>AH</td>\n",
       "      <td>S21</td>\n",
       "      <td>AAH</td>\n",
       "      <td>Aumühle</td>\n",
       "      <td>10.314672</td>\n",
       "      <td>53.529853</td>\n",
       "    </tr>\n",
       "    <tr>\n",
       "      <th>1</th>\n",
       "      <td>248206</td>\n",
       "      <td>Wohltorf</td>\n",
       "      <td>5</td>\n",
       "      <td>0</td>\n",
       "      <td>2016-12-10 09:31:36</td>\n",
       "      <td>2016-12-10 09:31:55</td>\n",
       "      <td>WLF</td>\n",
       "      <td>S21</td>\n",
       "      <td>AWLF</td>\n",
       "      <td>Wohltorf</td>\n",
       "      <td>10.278184</td>\n",
       "      <td>53.520589</td>\n",
       "    </tr>\n",
       "    <tr>\n",
       "      <th>2</th>\n",
       "      <td>248206</td>\n",
       "      <td>Reinbek</td>\n",
       "      <td>9</td>\n",
       "      <td>0</td>\n",
       "      <td>2016-12-10 09:34:09</td>\n",
       "      <td>2016-12-10 09:34:32</td>\n",
       "      <td>RBK</td>\n",
       "      <td>S21</td>\n",
       "      <td>ARBK</td>\n",
       "      <td>Reinbek</td>\n",
       "      <td>10.253335</td>\n",
       "      <td>53.508395</td>\n",
       "    </tr>\n",
       "    <tr>\n",
       "      <th>3</th>\n",
       "      <td>248206</td>\n",
       "      <td>Bergedorf</td>\n",
       "      <td>43</td>\n",
       "      <td>5</td>\n",
       "      <td>2016-12-10 09:38:01</td>\n",
       "      <td>2016-12-10 09:38:32</td>\n",
       "      <td>BGS</td>\n",
       "      <td>S21</td>\n",
       "      <td>ABGS</td>\n",
       "      <td>Beringstedt</td>\n",
       "      <td>9.537501</td>\n",
       "      <td>54.113667</td>\n",
       "    </tr>\n",
       "    <tr>\n",
       "      <th>4</th>\n",
       "      <td>248206</td>\n",
       "      <td>Nettelnburg</td>\n",
       "      <td>10</td>\n",
       "      <td>7</td>\n",
       "      <td>2016-12-10 09:40:32</td>\n",
       "      <td>2016-12-10 09:40:57</td>\n",
       "      <td>NTB</td>\n",
       "      <td>S21</td>\n",
       "      <td>ANTB</td>\n",
       "      <td>Hamburg-Nettelnburg</td>\n",
       "      <td>10.181408</td>\n",
       "      <td>53.487888</td>\n",
       "    </tr>\n",
       "    <tr>\n",
       "      <th>5</th>\n",
       "      <td>248206</td>\n",
       "      <td>Allermöhe</td>\n",
       "      <td>8</td>\n",
       "      <td>3</td>\n",
       "      <td>2016-12-10 09:42:38</td>\n",
       "      <td>2016-12-10 09:43:01</td>\n",
       "      <td>ALH</td>\n",
       "      <td>S21</td>\n",
       "      <td>AALH</td>\n",
       "      <td>Hamburg-Allermöhe</td>\n",
       "      <td>10.158735</td>\n",
       "      <td>53.490356</td>\n",
       "    </tr>\n",
       "    <tr>\n",
       "      <th>6</th>\n",
       "      <td>248206</td>\n",
       "      <td>Mittlerer Landweg</td>\n",
       "      <td>6</td>\n",
       "      <td>5</td>\n",
       "      <td>2016-12-10 09:45:08</td>\n",
       "      <td>2016-12-10 09:45:27</td>\n",
       "      <td>ML</td>\n",
       "      <td>S21</td>\n",
       "      <td>AML</td>\n",
       "      <td>Hamburg Mittlerer Landweg</td>\n",
       "      <td>10.131122</td>\n",
       "      <td>53.498172</td>\n",
       "    </tr>\n",
       "    <tr>\n",
       "      <th>7</th>\n",
       "      <td>248206</td>\n",
       "      <td>Billwerder-Moorfleet</td>\n",
       "      <td>1</td>\n",
       "      <td>0</td>\n",
       "      <td>2016-12-10 09:48:15</td>\n",
       "      <td>2016-12-10 09:48:37</td>\n",
       "      <td>BWM</td>\n",
       "      <td>S21</td>\n",
       "      <td>ABWM</td>\n",
       "      <td>Hamburg Billwerder-Moorfleet</td>\n",
       "      <td>10.096658</td>\n",
       "      <td>53.515589</td>\n",
       "    </tr>\n",
       "    <tr>\n",
       "      <th>8</th>\n",
       "      <td>248206</td>\n",
       "      <td>Tiefstack</td>\n",
       "      <td>14</td>\n",
       "      <td>4</td>\n",
       "      <td>2016-12-10 09:51:10</td>\n",
       "      <td>2016-12-10 09:51:33</td>\n",
       "      <td>TK</td>\n",
       "      <td>S21</td>\n",
       "      <td>ATK</td>\n",
       "      <td>Hamburg-Tiefstack</td>\n",
       "      <td>10.065591</td>\n",
       "      <td>53.531225</td>\n",
       "    </tr>\n",
       "    <tr>\n",
       "      <th>9</th>\n",
       "      <td>248206</td>\n",
       "      <td>Rothenburgsort</td>\n",
       "      <td>1</td>\n",
       "      <td>1</td>\n",
       "      <td>2016-12-10 09:53:24</td>\n",
       "      <td>2016-12-10 09:53:46</td>\n",
       "      <td>ROP</td>\n",
       "      <td>S21</td>\n",
       "      <td>AROP</td>\n",
       "      <td>Hamburg-Rothenburgsort</td>\n",
       "      <td>10.043953</td>\n",
       "      <td>53.538476</td>\n",
       "    </tr>\n",
       "    <tr>\n",
       "      <th>10</th>\n",
       "      <td>248206</td>\n",
       "      <td>Berliner Tor 2</td>\n",
       "      <td>2</td>\n",
       "      <td>4</td>\n",
       "      <td>2016-12-10 09:56:13</td>\n",
       "      <td>2016-12-10 09:56:35</td>\n",
       "      <td>BTSB</td>\n",
       "      <td>S21</td>\n",
       "      <td>ABTSB</td>\n",
       "      <td>Hamburg Berliner Tor</td>\n",
       "      <td>10.024630</td>\n",
       "      <td>53.552870</td>\n",
       "    </tr>\n",
       "    <tr>\n",
       "      <th>11</th>\n",
       "      <td>248206</td>\n",
       "      <td>Hauptbahnhof</td>\n",
       "      <td>39</td>\n",
       "      <td>63</td>\n",
       "      <td>2016-12-10 09:58:47</td>\n",
       "      <td>2016-12-10 09:59:34</td>\n",
       "      <td>HS</td>\n",
       "      <td>S21</td>\n",
       "      <td>AHS</td>\n",
       "      <td>Hamburg Hbf (S-Bahn)</td>\n",
       "      <td>10.007921</td>\n",
       "      <td>53.552809</td>\n",
       "    </tr>\n",
       "    <tr>\n",
       "      <th>12</th>\n",
       "      <td>248206</td>\n",
       "      <td>Dammtor</td>\n",
       "      <td>4</td>\n",
       "      <td>26</td>\n",
       "      <td>2016-12-10 10:02:01</td>\n",
       "      <td>2016-12-10 10:02:33</td>\n",
       "      <td>DST</td>\n",
       "      <td>S21</td>\n",
       "      <td>ADST</td>\n",
       "      <td>Hamburg Dammtor</td>\n",
       "      <td>9.989566</td>\n",
       "      <td>53.560751</td>\n",
       "    </tr>\n",
       "    <tr>\n",
       "      <th>13</th>\n",
       "      <td>248206</td>\n",
       "      <td>Sternschanze</td>\n",
       "      <td>7</td>\n",
       "      <td>7</td>\n",
       "      <td>2016-12-10 10:04:31</td>\n",
       "      <td>2016-12-10 10:04:59</td>\n",
       "      <td>SST</td>\n",
       "      <td>S21</td>\n",
       "      <td>ASST</td>\n",
       "      <td>Hamburg-Sternschanze</td>\n",
       "      <td>9.967204</td>\n",
       "      <td>53.563719</td>\n",
       "    </tr>\n",
       "    <tr>\n",
       "      <th>14</th>\n",
       "      <td>248206</td>\n",
       "      <td>Holstenstraße</td>\n",
       "      <td>0</td>\n",
       "      <td>13</td>\n",
       "      <td>2016-12-10 10:06:48</td>\n",
       "      <td>2016-12-10 10:07:11</td>\n",
       "      <td>HST</td>\n",
       "      <td>S21</td>\n",
       "      <td>AHST</td>\n",
       "      <td>Hamburg Holstenstraße</td>\n",
       "      <td>9.949741</td>\n",
       "      <td>53.561762</td>\n",
       "    </tr>\n",
       "    <tr>\n",
       "      <th>15</th>\n",
       "      <td>248206</td>\n",
       "      <td>Diebsteich</td>\n",
       "      <td>2</td>\n",
       "      <td>5</td>\n",
       "      <td>2016-12-10 10:09:09</td>\n",
       "      <td>2016-12-10 10:09:29</td>\n",
       "      <td>DT</td>\n",
       "      <td>S21</td>\n",
       "      <td>ADT</td>\n",
       "      <td>Hamburg Diebsteich</td>\n",
       "      <td>9.934260</td>\n",
       "      <td>53.568569</td>\n",
       "    </tr>\n",
       "    <tr>\n",
       "      <th>16</th>\n",
       "      <td>248206</td>\n",
       "      <td>Langenfelde</td>\n",
       "      <td>0</td>\n",
       "      <td>0</td>\n",
       "      <td>2016-12-10 10:10:59</td>\n",
       "      <td>2016-12-10 10:11:18</td>\n",
       "      <td>LST</td>\n",
       "      <td>S21</td>\n",
       "      <td>ALST</td>\n",
       "      <td>Hamburg-Langenfelde</td>\n",
       "      <td>9.930920</td>\n",
       "      <td>53.579692</td>\n",
       "    </tr>\n",
       "    <tr>\n",
       "      <th>17</th>\n",
       "      <td>248206</td>\n",
       "      <td>Stellingen</td>\n",
       "      <td>1</td>\n",
       "      <td>1</td>\n",
       "      <td>2016-12-10 10:12:54</td>\n",
       "      <td>2016-12-10 10:13:16</td>\n",
       "      <td>STS</td>\n",
       "      <td>S21</td>\n",
       "      <td>ASTS</td>\n",
       "      <td>Hamburg-Stellingen</td>\n",
       "      <td>9.918336</td>\n",
       "      <td>53.589843</td>\n",
       "    </tr>\n",
       "    <tr>\n",
       "      <th>18</th>\n",
       "      <td>248206</td>\n",
       "      <td>Eidelstedt</td>\n",
       "      <td>0</td>\n",
       "      <td>11</td>\n",
       "      <td>2016-12-10 10:14:40</td>\n",
       "      <td>2016-12-10 10:15:02</td>\n",
       "      <td>EST</td>\n",
       "      <td>S21</td>\n",
       "      <td>AEST</td>\n",
       "      <td>Hamburg-Eidelstedt</td>\n",
       "      <td>9.907097</td>\n",
       "      <td>53.595887</td>\n",
       "    </tr>\n",
       "    <tr>\n",
       "      <th>19</th>\n",
       "      <td>248206</td>\n",
       "      <td>Elbgaustraße</td>\n",
       "      <td>0</td>\n",
       "      <td>1</td>\n",
       "      <td>2016-12-10 10:16:33</td>\n",
       "      <td>2016-12-10 10:17:50</td>\n",
       "      <td>EGS</td>\n",
       "      <td>S21</td>\n",
       "      <td>AEGS</td>\n",
       "      <td>Hamburg Elbgaustraße</td>\n",
       "      <td>9.893738</td>\n",
       "      <td>53.602575</td>\n",
       "    </tr>\n",
       "  </tbody>\n",
       "</table>\n",
       "</div>"
      ],
      "text/plain": [
       "     Zugnr               Station  Einsteiger  Aussteiger  dtmIstAnkunftDatum   \n",
       "0   248206               Aumühle           0           0 2016-12-10 09:27:26  \\\n",
       "1   248206              Wohltorf           5           0 2016-12-10 09:31:36   \n",
       "2   248206               Reinbek           9           0 2016-12-10 09:34:09   \n",
       "3   248206             Bergedorf          43           5 2016-12-10 09:38:01   \n",
       "4   248206           Nettelnburg          10           7 2016-12-10 09:40:32   \n",
       "5   248206             Allermöhe           8           3 2016-12-10 09:42:38   \n",
       "6   248206     Mittlerer Landweg           6           5 2016-12-10 09:45:08   \n",
       "7   248206  Billwerder-Moorfleet           1           0 2016-12-10 09:48:15   \n",
       "8   248206             Tiefstack          14           4 2016-12-10 09:51:10   \n",
       "9   248206        Rothenburgsort           1           1 2016-12-10 09:53:24   \n",
       "10  248206        Berliner Tor 2           2           4 2016-12-10 09:56:13   \n",
       "11  248206          Hauptbahnhof          39          63 2016-12-10 09:58:47   \n",
       "12  248206               Dammtor           4          26 2016-12-10 10:02:01   \n",
       "13  248206          Sternschanze           7           7 2016-12-10 10:04:31   \n",
       "14  248206         Holstenstraße           0          13 2016-12-10 10:06:48   \n",
       "15  248206            Diebsteich           2           5 2016-12-10 10:09:09   \n",
       "16  248206           Langenfelde           0           0 2016-12-10 10:10:59   \n",
       "17  248206            Stellingen           1           1 2016-12-10 10:12:54   \n",
       "18  248206            Eidelstedt           0          11 2016-12-10 10:14:40   \n",
       "19  248206          Elbgaustraße           0           1 2016-12-10 10:16:33   \n",
       "\n",
       "    dtmIstAbfahrtDatum DS100 kurz strKurzbezeichnung  DS100   \n",
       "0  2016-12-10 09:28:49         AH                S21    AAH  \\\n",
       "1  2016-12-10 09:31:55        WLF                S21   AWLF   \n",
       "2  2016-12-10 09:34:32        RBK                S21   ARBK   \n",
       "3  2016-12-10 09:38:32        BGS                S21   ABGS   \n",
       "4  2016-12-10 09:40:57        NTB                S21   ANTB   \n",
       "5  2016-12-10 09:43:01        ALH                S21   AALH   \n",
       "6  2016-12-10 09:45:27         ML                S21    AML   \n",
       "7  2016-12-10 09:48:37        BWM                S21   ABWM   \n",
       "8  2016-12-10 09:51:33         TK                S21    ATK   \n",
       "9  2016-12-10 09:53:46        ROP                S21   AROP   \n",
       "10 2016-12-10 09:56:35       BTSB                S21  ABTSB   \n",
       "11 2016-12-10 09:59:34         HS                S21    AHS   \n",
       "12 2016-12-10 10:02:33        DST                S21   ADST   \n",
       "13 2016-12-10 10:04:59        SST                S21   ASST   \n",
       "14 2016-12-10 10:07:11        HST                S21   AHST   \n",
       "15 2016-12-10 10:09:29         DT                S21    ADT   \n",
       "16 2016-12-10 10:11:18        LST                S21   ALST   \n",
       "17 2016-12-10 10:13:16        STS                S21   ASTS   \n",
       "18 2016-12-10 10:15:02        EST                S21   AEST   \n",
       "19 2016-12-10 10:17:50        EGS                S21   AEGS   \n",
       "\n",
       "                            NAME     LAENGE     BREITE  \n",
       "0                        Aumühle  10.314672  53.529853  \n",
       "1                       Wohltorf  10.278184  53.520589  \n",
       "2                        Reinbek  10.253335  53.508395  \n",
       "3                    Beringstedt   9.537501  54.113667  \n",
       "4            Hamburg-Nettelnburg  10.181408  53.487888  \n",
       "5              Hamburg-Allermöhe  10.158735  53.490356  \n",
       "6      Hamburg Mittlerer Landweg  10.131122  53.498172  \n",
       "7   Hamburg Billwerder-Moorfleet  10.096658  53.515589  \n",
       "8              Hamburg-Tiefstack  10.065591  53.531225  \n",
       "9         Hamburg-Rothenburgsort  10.043953  53.538476  \n",
       "10          Hamburg Berliner Tor  10.024630  53.552870  \n",
       "11          Hamburg Hbf (S-Bahn)  10.007921  53.552809  \n",
       "12               Hamburg Dammtor   9.989566  53.560751  \n",
       "13          Hamburg-Sternschanze   9.967204  53.563719  \n",
       "14         Hamburg Holstenstraße   9.949741  53.561762  \n",
       "15            Hamburg Diebsteich   9.934260  53.568569  \n",
       "16           Hamburg-Langenfelde   9.930920  53.579692  \n",
       "17            Hamburg-Stellingen   9.918336  53.589843  \n",
       "18            Hamburg-Eidelstedt   9.907097  53.595887  \n",
       "19          Hamburg Elbgaustraße   9.893738  53.602575  "
      ]
     },
     "execution_count": 32,
     "metadata": {},
     "output_type": "execute_result"
    }
   ],
   "source": [
    "datum = datetime.date(2016, 12, 10)\n",
    "df_s21 = dfs.query(\"Zugnr == '248206' and dtmIstAnkunftDatum.dt.date == @datum\")\n",
    "df_s21"
   ]
  },
  {
   "cell_type": "code",
   "execution_count": 33,
   "id": "cf2c1f2d",
   "metadata": {
    "slideshow": {
     "slide_type": "slide"
    }
   },
   "outputs": [
    {
     "data": {
      "text/plain": [
       "[<matplotlib.lines.Line2D at 0x7f011deb08e0>]"
      ]
     },
     "execution_count": 33,
     "metadata": {},
     "output_type": "execute_result"
    },
    {
     "data": {
      "image/png": "[encoded data removed]",
      "text/plain": [
       "<Figure size 640x480 with 1 Axes>"
      ]
     },
     "metadata": {},
     "output_type": "display_data"
    }
   ],
   "source": [
    "plt.plot(df_s21['LAENGE'], df_s21['BREITE'], '-o')"
   ]
  },
  {
   "cell_type": "markdown",
   "id": "2f1e92da",
   "metadata": {
    "slideshow": {
     "slide_type": "slide"
    }
   },
   "source": [
    "### Was ist in Zeile 4 passiert?\n",
    "* Indexzählung beginnt mit 0, betrachte also Index 3"
   ]
  },
  {
   "cell_type": "code",
   "execution_count": 34,
   "id": "6858e0fb",
   "metadata": {
    "slideshow": {
     "slide_type": "fragment"
    }
   },
   "outputs": [
    {
     "data": {
      "text/plain": [
       "Zugnr                              248206\n",
       "Station                         Bergedorf\n",
       "Einsteiger                             43\n",
       "Aussteiger                              5\n",
       "dtmIstAnkunftDatum    2016-12-10 09:38:01\n",
       "dtmIstAbfahrtDatum    2016-12-10 09:38:32\n",
       "DS100 kurz                            BGS\n",
       "strKurzbezeichnung                    S21\n",
       "DS100                                ABGS\n",
       "NAME                          Beringstedt\n",
       "LAENGE                           9.537501\n",
       "BREITE                          54.113667\n",
       "Name: 3, dtype: object"
      ]
     },
     "execution_count": 34,
     "metadata": {},
     "output_type": "execute_result"
    }
   ],
   "source": [
    "df_s21.iloc[3]"
   ]
  },
  {
   "cell_type": "markdown",
   "id": "c16d5d56",
   "metadata": {
    "slideshow": {
     "slide_type": "fragment"
    }
   },
   "source": [
    "Bergedorf ist nicht Beringstedt!"
   ]
  },
  {
   "cell_type": "code",
   "execution_count": 35,
   "id": "032c0b3c",
   "metadata": {
    "slideshow": {
     "slide_type": "subslide"
    }
   },
   "outputs": [
    {
     "data": {
      "text/html": [
       "<div>\n",
       "<style scoped>\n",
       "    .dataframe tbody tr th:only-of-type {\n",
       "        vertical-align: middle;\n",
       "    }\n",
       "\n",
       "    .dataframe tbody tr th {\n",
       "        vertical-align: top;\n",
       "    }\n",
       "\n",
       "    .dataframe thead th {\n",
       "        text-align: right;\n",
       "    }\n",
       "</style>\n",
       "<table border=\"1\" class=\"dataframe\">\n",
       "  <thead>\n",
       "    <tr style=\"text-align: right;\">\n",
       "      <th></th>\n",
       "      <th>DS100</th>\n",
       "      <th>NAME</th>\n",
       "      <th>LAENGE</th>\n",
       "      <th>BREITE</th>\n",
       "    </tr>\n",
       "  </thead>\n",
       "  <tbody>\n",
       "    <tr>\n",
       "      <th>1700</th>\n",
       "      <td>ABG</td>\n",
       "      <td>Hamburg-Bergedorf</td>\n",
       "      <td>10.206171</td>\n",
       "      <td>53.489832</td>\n",
       "    </tr>\n",
       "    <tr>\n",
       "      <th>1700</th>\n",
       "      <td>ABG S</td>\n",
       "      <td>Hamburg-Bergedorf</td>\n",
       "      <td>10.206171</td>\n",
       "      <td>53.489832</td>\n",
       "    </tr>\n",
       "  </tbody>\n",
       "</table>\n",
       "</div>"
      ],
      "text/plain": [
       "      DS100               NAME     LAENGE     BREITE\n",
       "1700    ABG  Hamburg-Bergedorf  10.206171  53.489832\n",
       "1700  ABG S  Hamburg-Bergedorf  10.206171  53.489832"
      ]
     },
     "execution_count": 35,
     "metadata": {},
     "output_type": "execute_result"
    }
   ],
   "source": [
    "stationen.query(\"NAME == 'Hamburg-Bergedorf'\")"
   ]
  },
  {
   "cell_type": "code",
   "execution_count": 36,
   "id": "2bae96ca",
   "metadata": {
    "slideshow": {
     "slide_type": "-"
    }
   },
   "outputs": [
    {
     "data": {
      "text/html": [
       "<div>\n",
       "<style scoped>\n",
       "    .dataframe tbody tr th:only-of-type {\n",
       "        vertical-align: middle;\n",
       "    }\n",
       "\n",
       "    .dataframe tbody tr th {\n",
       "        vertical-align: top;\n",
       "    }\n",
       "\n",
       "    .dataframe thead th {\n",
       "        text-align: right;\n",
       "    }\n",
       "</style>\n",
       "<table border=\"1\" class=\"dataframe\">\n",
       "  <thead>\n",
       "    <tr style=\"text-align: right;\">\n",
       "      <th></th>\n",
       "      <th>DS100</th>\n",
       "      <th>NAME</th>\n",
       "      <th>LAENGE</th>\n",
       "      <th>BREITE</th>\n",
       "    </tr>\n",
       "  </thead>\n",
       "  <tbody>\n",
       "    <tr>\n",
       "      <th>695</th>\n",
       "      <td>ABGS</td>\n",
       "      <td>Beringstedt</td>\n",
       "      <td>9.537501</td>\n",
       "      <td>54.113667</td>\n",
       "    </tr>\n",
       "  </tbody>\n",
       "</table>\n",
       "</div>"
      ],
      "text/plain": [
       "    DS100         NAME    LAENGE     BREITE\n",
       "695  ABGS  Beringstedt  9.537501  54.113667"
      ]
     },
     "execution_count": 36,
     "metadata": {},
     "output_type": "execute_result"
    }
   ],
   "source": [
    "stationen.query(\"NAME == 'Beringstedt'\")"
   ]
  },
  {
   "cell_type": "markdown",
   "id": "1c7acdcc",
   "metadata": {
    "slideshow": {
     "slide_type": "slide"
    }
   },
   "source": [
    "### Korrigiere DS100-Code von Bergedorf nach `AGB S`\n",
    "* Erzeuge eine Maske, die angibt, ob die Zeile den falschen DS100-Code enthält.\n",
    "* Setze den Code in den betreffenden Zeilen des ursprünglichen S-Bahn-Datensatzes korrekt."
   ]
  },
  {
   "cell_type": "code",
   "execution_count": 37,
   "id": "198189b1",
   "metadata": {
    "slideshow": {
     "slide_type": "-"
    }
   },
   "outputs": [],
   "source": [
    "is_bergedorf = df['DS100'] == 'ABGS'"
   ]
  },
  {
   "cell_type": "code",
   "execution_count": 38,
   "id": "55881e7e",
   "metadata": {},
   "outputs": [
    {
     "data": {
      "text/plain": [
       "0         False\n",
       "1         False\n",
       "2         False\n",
       "3          True\n",
       "4         False\n",
       "          ...  \n",
       "610665    False\n",
       "610666    False\n",
       "610667    False\n",
       "610668    False\n",
       "610669    False\n",
       "Name: DS100, Length: 610670, dtype: bool"
      ]
     },
     "execution_count": 38,
     "metadata": {},
     "output_type": "execute_result"
    }
   ],
   "source": [
    "is_bergedorf"
   ]
  },
  {
   "cell_type": "code",
   "execution_count": 39,
   "id": "4ba19fc4",
   "metadata": {
    "slideshow": {
     "slide_type": "subslide"
    }
   },
   "outputs": [],
   "source": [
    "df.loc[is_bergedorf, 'DS100'] = 'ABG S'"
   ]
  },
  {
   "cell_type": "code",
   "execution_count": 40,
   "id": "4d31824a",
   "metadata": {
    "slideshow": {
     "slide_type": "-"
    }
   },
   "outputs": [
    {
     "data": {
      "text/html": [
       "<div>\n",
       "<style scoped>\n",
       "    .dataframe tbody tr th:only-of-type {\n",
       "        vertical-align: middle;\n",
       "    }\n",
       "\n",
       "    .dataframe tbody tr th {\n",
       "        vertical-align: top;\n",
       "    }\n",
       "\n",
       "    .dataframe thead th {\n",
       "        text-align: right;\n",
       "    }\n",
       "</style>\n",
       "<table border=\"1\" class=\"dataframe\">\n",
       "  <thead>\n",
       "    <tr style=\"text-align: right;\">\n",
       "      <th></th>\n",
       "      <th>Zugnr</th>\n",
       "      <th>Station</th>\n",
       "      <th>Einsteiger</th>\n",
       "      <th>Aussteiger</th>\n",
       "      <th>dtmIstAnkunftDatum</th>\n",
       "      <th>dtmIstAbfahrtDatum</th>\n",
       "      <th>DS100 kurz</th>\n",
       "      <th>strKurzbezeichnung</th>\n",
       "      <th>DS100</th>\n",
       "    </tr>\n",
       "  </thead>\n",
       "  <tbody>\n",
       "    <tr>\n",
       "      <th>0</th>\n",
       "      <td>248206</td>\n",
       "      <td>Aumühle</td>\n",
       "      <td>0</td>\n",
       "      <td>0</td>\n",
       "      <td>2016-12-10 09:27:26</td>\n",
       "      <td>2016-12-10 09:28:49</td>\n",
       "      <td>AH</td>\n",
       "      <td>S21</td>\n",
       "      <td>AAH</td>\n",
       "    </tr>\n",
       "    <tr>\n",
       "      <th>1</th>\n",
       "      <td>248206</td>\n",
       "      <td>Wohltorf</td>\n",
       "      <td>5</td>\n",
       "      <td>0</td>\n",
       "      <td>2016-12-10 09:31:36</td>\n",
       "      <td>2016-12-10 09:31:55</td>\n",
       "      <td>WLF</td>\n",
       "      <td>S21</td>\n",
       "      <td>AWLF</td>\n",
       "    </tr>\n",
       "    <tr>\n",
       "      <th>2</th>\n",
       "      <td>248206</td>\n",
       "      <td>Reinbek</td>\n",
       "      <td>9</td>\n",
       "      <td>0</td>\n",
       "      <td>2016-12-10 09:34:09</td>\n",
       "      <td>2016-12-10 09:34:32</td>\n",
       "      <td>RBK</td>\n",
       "      <td>S21</td>\n",
       "      <td>ARBK</td>\n",
       "    </tr>\n",
       "    <tr>\n",
       "      <th>3</th>\n",
       "      <td>248206</td>\n",
       "      <td>Bergedorf</td>\n",
       "      <td>43</td>\n",
       "      <td>5</td>\n",
       "      <td>2016-12-10 09:38:01</td>\n",
       "      <td>2016-12-10 09:38:32</td>\n",
       "      <td>BGS</td>\n",
       "      <td>S21</td>\n",
       "      <td>ABG S</td>\n",
       "    </tr>\n",
       "    <tr>\n",
       "      <th>4</th>\n",
       "      <td>248206</td>\n",
       "      <td>Nettelnburg</td>\n",
       "      <td>10</td>\n",
       "      <td>7</td>\n",
       "      <td>2016-12-10 09:40:32</td>\n",
       "      <td>2016-12-10 09:40:57</td>\n",
       "      <td>NTB</td>\n",
       "      <td>S21</td>\n",
       "      <td>ANTB</td>\n",
       "    </tr>\n",
       "  </tbody>\n",
       "</table>\n",
       "</div>"
      ],
      "text/plain": [
       "    Zugnr      Station  Einsteiger  Aussteiger  dtmIstAnkunftDatum   \n",
       "0  248206      Aumühle           0           0 2016-12-10 09:27:26  \\\n",
       "1  248206     Wohltorf           5           0 2016-12-10 09:31:36   \n",
       "2  248206      Reinbek           9           0 2016-12-10 09:34:09   \n",
       "3  248206    Bergedorf          43           5 2016-12-10 09:38:01   \n",
       "4  248206  Nettelnburg          10           7 2016-12-10 09:40:32   \n",
       "\n",
       "   dtmIstAbfahrtDatum DS100 kurz strKurzbezeichnung  DS100  \n",
       "0 2016-12-10 09:28:49         AH                S21    AAH  \n",
       "1 2016-12-10 09:31:55        WLF                S21   AWLF  \n",
       "2 2016-12-10 09:34:32        RBK                S21   ARBK  \n",
       "3 2016-12-10 09:38:32        BGS                S21  ABG S  \n",
       "4 2016-12-10 09:40:57        NTB                S21   ANTB  "
      ]
     },
     "execution_count": 40,
     "metadata": {},
     "output_type": "execute_result"
    }
   ],
   "source": [
    "df.iloc[:5]"
   ]
  },
  {
   "cell_type": "markdown",
   "id": "d6604406",
   "metadata": {
    "slideshow": {
     "slide_type": "slide"
    }
   },
   "source": [
    "### Nochmaliges Zusammenfügen der Daten"
   ]
  },
  {
   "cell_type": "code",
   "execution_count": 41,
   "id": "b0c2dcce",
   "metadata": {
    "slideshow": {
     "slide_type": "-"
    }
   },
   "outputs": [],
   "source": [
    "dfs = df.merge(stationen, how='left', on='DS100')"
   ]
  },
  {
   "cell_type": "code",
   "execution_count": 42,
   "id": "d30ce787",
   "metadata": {
    "slideshow": {
     "slide_type": "-"
    }
   },
   "outputs": [],
   "source": [
    "datum = datetime.date(2016, 12, 10)\n",
    "df_s21 = dfs.query(\"Zugnr == '248206' and dtmIstAnkunftDatum.dt.date == @datum\")"
   ]
  },
  {
   "cell_type": "markdown",
   "id": "1b4cad96",
   "metadata": {
    "slideshow": {
     "slide_type": "slide"
    }
   },
   "source": [
    "### Linienführung S21"
   ]
  },
  {
   "cell_type": "code",
   "execution_count": 43,
   "id": "5286bb71",
   "metadata": {
    "slideshow": {
     "slide_type": "-"
    }
   },
   "outputs": [
    {
     "data": {
      "image/png": "[encoded data removed]",
      "text/plain": [
       "<Figure size 640x480 with 1 Axes>"
      ]
     },
     "metadata": {},
     "output_type": "display_data"
    }
   ],
   "source": [
    "fig = plt.figure()\n",
    "ax = fig.add_subplot(111)\n",
    "ax.plot(df_s21['LAENGE'], df_s21['BREITE'], '-o')\n",
    "for x, y, text in zip(df_s21['LAENGE'], df_s21['BREITE'], df_s21['Station']):\n",
    "    ax.annotate(text, xy=(x, y))"
   ]
  },
  {
   "cell_type": "markdown",
   "id": "f51f87c0",
   "metadata": {
    "slideshow": {
     "slide_type": "slide"
    }
   },
   "source": [
    "### Kann eine S-Bahn vor der Ankunft abfahren?"
   ]
  },
  {
   "cell_type": "code",
   "execution_count": 44,
   "id": "be5d817e",
   "metadata": {
    "slideshow": {
     "slide_type": "-"
    }
   },
   "outputs": [],
   "source": [
    "df['Haltedauer'] = (df['dtmIstAbfahrtDatum']-df['dtmIstAnkunftDatum']).dt.total_seconds()"
   ]
  },
  {
   "cell_type": "code",
   "execution_count": 45,
   "id": "96ca309b",
   "metadata": {
    "slideshow": {
     "slide_type": "fragment"
    }
   },
   "outputs": [
    {
     "data": {
      "text/plain": [
       "(-573.0, 29072.0)"
      ]
     },
     "execution_count": 45,
     "metadata": {},
     "output_type": "execute_result"
    }
   ],
   "source": [
    "df['Haltedauer'].min(), df['Haltedauer'].max()"
   ]
  },
  {
   "cell_type": "code",
   "execution_count": 46,
   "id": "3ec565a8",
   "metadata": {
    "slideshow": {
     "slide_type": "fragment"
    }
   },
   "outputs": [
    {
     "data": {
      "text/html": [
       "<div>\n",
       "<style scoped>\n",
       "    .dataframe tbody tr th:only-of-type {\n",
       "        vertical-align: middle;\n",
       "    }\n",
       "\n",
       "    .dataframe tbody tr th {\n",
       "        vertical-align: top;\n",
       "    }\n",
       "\n",
       "    .dataframe thead th {\n",
       "        text-align: right;\n",
       "    }\n",
       "</style>\n",
       "<table border=\"1\" class=\"dataframe\">\n",
       "  <thead>\n",
       "    <tr style=\"text-align: right;\">\n",
       "      <th></th>\n",
       "      <th>Zugnr</th>\n",
       "      <th>Station</th>\n",
       "      <th>Einsteiger</th>\n",
       "      <th>Aussteiger</th>\n",
       "      <th>dtmIstAnkunftDatum</th>\n",
       "      <th>dtmIstAbfahrtDatum</th>\n",
       "      <th>DS100 kurz</th>\n",
       "      <th>strKurzbezeichnung</th>\n",
       "      <th>DS100</th>\n",
       "      <th>Haltedauer</th>\n",
       "    </tr>\n",
       "  </thead>\n",
       "  <tbody>\n",
       "    <tr>\n",
       "      <th>604579</th>\n",
       "      <td>248277</td>\n",
       "      <td>Stellingen</td>\n",
       "      <td>1</td>\n",
       "      <td>3</td>\n",
       "      <td>2017-03-31 11:59:38</td>\n",
       "      <td>2017-03-31 11:50:05</td>\n",
       "      <td>STS</td>\n",
       "      <td>S21</td>\n",
       "      <td>ASTS</td>\n",
       "      <td>-573.0</td>\n",
       "    </tr>\n",
       "  </tbody>\n",
       "</table>\n",
       "</div>"
      ],
      "text/plain": [
       "         Zugnr     Station  Einsteiger  Aussteiger  dtmIstAnkunftDatum   \n",
       "604579  248277  Stellingen           1           3 2017-03-31 11:59:38  \\\n",
       "\n",
       "        dtmIstAbfahrtDatum DS100 kurz strKurzbezeichnung DS100  Haltedauer  \n",
       "604579 2017-03-31 11:50:05        STS                S21  ASTS      -573.0  "
      ]
     },
     "execution_count": 46,
     "metadata": {},
     "output_type": "execute_result"
    }
   ],
   "source": [
    "df[df['Haltedauer'] < 0]"
   ]
  },
  {
   "cell_type": "code",
   "execution_count": 47,
   "id": "725ab188",
   "metadata": {
    "slideshow": {
     "slide_type": "fragment"
    }
   },
   "outputs": [],
   "source": [
    "df.loc[df['Haltedauer'] < 0, 'Haltedauer'] = np.nan"
   ]
  },
  {
   "cell_type": "code",
   "execution_count": 48,
   "id": "8e5fe25a",
   "metadata": {
    "slideshow": {
     "slide_type": "fragment"
    }
   },
   "outputs": [
    {
     "data": {
      "text/html": [
       "<div>\n",
       "<style scoped>\n",
       "    .dataframe tbody tr th:only-of-type {\n",
       "        vertical-align: middle;\n",
       "    }\n",
       "\n",
       "    .dataframe tbody tr th {\n",
       "        vertical-align: top;\n",
       "    }\n",
       "\n",
       "    .dataframe thead th {\n",
       "        text-align: right;\n",
       "    }\n",
       "</style>\n",
       "<table border=\"1\" class=\"dataframe\">\n",
       "  <thead>\n",
       "    <tr style=\"text-align: right;\">\n",
       "      <th></th>\n",
       "      <th>Zugnr</th>\n",
       "      <th>Station</th>\n",
       "      <th>Einsteiger</th>\n",
       "      <th>Aussteiger</th>\n",
       "      <th>dtmIstAnkunftDatum</th>\n",
       "      <th>dtmIstAbfahrtDatum</th>\n",
       "      <th>DS100 kurz</th>\n",
       "      <th>strKurzbezeichnung</th>\n",
       "      <th>DS100</th>\n",
       "      <th>Haltedauer</th>\n",
       "    </tr>\n",
       "  </thead>\n",
       "  <tbody>\n",
       "    <tr>\n",
       "      <th>604579</th>\n",
       "      <td>248277</td>\n",
       "      <td>Stellingen</td>\n",
       "      <td>1</td>\n",
       "      <td>3</td>\n",
       "      <td>2017-03-31 11:59:38</td>\n",
       "      <td>2017-03-31 11:50:05</td>\n",
       "      <td>STS</td>\n",
       "      <td>S21</td>\n",
       "      <td>ASTS</td>\n",
       "      <td>NaN</td>\n",
       "    </tr>\n",
       "  </tbody>\n",
       "</table>\n",
       "</div>"
      ],
      "text/plain": [
       "         Zugnr     Station  Einsteiger  Aussteiger  dtmIstAnkunftDatum   \n",
       "604579  248277  Stellingen           1           3 2017-03-31 11:59:38  \\\n",
       "\n",
       "        dtmIstAbfahrtDatum DS100 kurz strKurzbezeichnung DS100  Haltedauer  \n",
       "604579 2017-03-31 11:50:05        STS                S21  ASTS         NaN  "
      ]
     },
     "execution_count": 48,
     "metadata": {},
     "output_type": "execute_result"
    }
   ],
   "source": [
    "df.loc[df['Haltedauer'].isnull()]"
   ]
  },
  {
   "cell_type": "markdown",
   "id": "32fa7ec4",
   "metadata": {
    "slideshow": {
     "slide_type": "slide"
    }
   },
   "source": [
    "### Verteilung der Haltedauern"
   ]
  },
  {
   "cell_type": "code",
   "execution_count": 49,
   "id": "76b2ca99",
   "metadata": {
    "slideshow": {
     "slide_type": "-"
    }
   },
   "outputs": [
    {
     "data": {
      "text/plain": [
       "Haltedauer\n",
       "47.0      19252\n",
       "48.0      17197\n",
       "38.0      16408\n",
       "37.0      16152\n",
       "26.0      16012\n",
       "          ...  \n",
       "1098.0        1\n",
       "9380.0        1\n",
       "1594.0        1\n",
       "9470.0        1\n",
       "2158.0        1\n",
       "Name: count, Length: 1646, dtype: int64"
      ]
     },
     "execution_count": 49,
     "metadata": {},
     "output_type": "execute_result"
    }
   ],
   "source": [
    "df['Haltedauer'].value_counts()"
   ]
  },
  {
   "cell_type": "code",
   "execution_count": 50,
   "id": "7e9ac3b5",
   "metadata": {
    "slideshow": {
     "slide_type": "subslide"
    }
   },
   "outputs": [
    {
     "data": {
      "image/png": "[encoded data removed]",
      "text/plain": [
       "<Figure size 640x480 with 1 Axes>"
      ]
     },
     "metadata": {},
     "output_type": "display_data"
    }
   ],
   "source": [
    "plt.plot(df['Haltedauer'].value_counts(), '.')\n",
    "plt.xlim(0, 100);"
   ]
  },
  {
   "cell_type": "markdown",
   "id": "35861337",
   "metadata": {
    "slideshow": {
     "slide_type": "slide"
    }
   },
   "source": [
    "### Hält die S-Bahn am Hauptbahnhof länger?"
   ]
  },
  {
   "cell_type": "code",
   "execution_count": 51,
   "id": "f2f1e186",
   "metadata": {
    "slideshow": {
     "slide_type": "-"
    }
   },
   "outputs": [
    {
     "data": {
      "text/plain": [
       "array(['Aumühle', 'Wohltorf', 'Reinbek', 'Bergedorf', 'Nettelnburg',\n",
       "       'Allermöhe', 'Mittlerer Landweg', 'Billwerder-Moorfleet',\n",
       "       'Tiefstack', 'Rothenburgsort', 'Berliner Tor 2', 'Hauptbahnhof',\n",
       "       'Dammtor', 'Sternschanze', 'Holstenstraße', 'Diebsteich',\n",
       "       'Langenfelde', 'Stellingen', 'Eidelstedt', 'Elbgaustraße', 'Wedel',\n",
       "       'Rissen', 'Sülldorf', 'Iserbrook', 'Blankenese', 'Hochkamp',\n",
       "       'Klein Flottbek', 'Othmarschen', 'Bahrenfeld', 'Altona',\n",
       "       'Königstraße', 'Reeperbahn', 'Landungsbrücken', 'Stadthausbrücke',\n",
       "       'Jungfernstieg', 'Berliner Tor 1', 'Landwehr', 'Hasselbrook',\n",
       "       'Wandsbeker Chaussee', 'Friedrichsberg', 'Barmbek', 'Alte Wöhr',\n",
       "       'Rübenkamp', 'Ohlsdorf', 'Airport', 'Kornweg', 'Hoheneichen',\n",
       "       'Wellingsbüttel', 'Poppenbüttel', 'Hammerbrook', 'Veddel',\n",
       "       'Wilhelmsburg', 'Harburg', 'Harburg-Rathaus', 'Neugraben',\n",
       "       'Neuwiedenthal', 'Heimfeld', 'Buxtehude', 'Neu Wulmstorf',\n",
       "       'Fischbek', 'Krupunder', 'Halstenbek', 'Thesdorf', 'Pinneberg',\n",
       "       'Neukloster', 'Horneburg', 'Dollern', 'Agathenburg', 'Stade'],\n",
       "      dtype=object)"
      ]
     },
     "execution_count": 51,
     "metadata": {},
     "output_type": "execute_result"
    }
   ],
   "source": [
    "dfs['Station'].unique()"
   ]
  },
  {
   "cell_type": "code",
   "execution_count": 52,
   "id": "3fc564db",
   "metadata": {
    "slideshow": {
     "slide_type": "subslide"
    }
   },
   "outputs": [],
   "source": [
    "hbfdata = df[df['Station'] == 'Hauptbahnhof']"
   ]
  },
  {
   "cell_type": "code",
   "execution_count": 53,
   "id": "ea4ed3b3",
   "metadata": {
    "slideshow": {
     "slide_type": "fragment"
    }
   },
   "outputs": [
    {
     "data": {
      "text/html": [
       "<div>\n",
       "<style scoped>\n",
       "    .dataframe tbody tr th:only-of-type {\n",
       "        vertical-align: middle;\n",
       "    }\n",
       "\n",
       "    .dataframe tbody tr th {\n",
       "        vertical-align: top;\n",
       "    }\n",
       "\n",
       "    .dataframe thead th {\n",
       "        text-align: right;\n",
       "    }\n",
       "</style>\n",
       "<table border=\"1\" class=\"dataframe\">\n",
       "  <thead>\n",
       "    <tr style=\"text-align: right;\">\n",
       "      <th></th>\n",
       "      <th>Zugnr</th>\n",
       "      <th>Station</th>\n",
       "      <th>Einsteiger</th>\n",
       "      <th>Aussteiger</th>\n",
       "      <th>dtmIstAnkunftDatum</th>\n",
       "      <th>dtmIstAbfahrtDatum</th>\n",
       "      <th>DS100 kurz</th>\n",
       "      <th>strKurzbezeichnung</th>\n",
       "      <th>DS100</th>\n",
       "      <th>Haltedauer</th>\n",
       "    </tr>\n",
       "  </thead>\n",
       "  <tbody>\n",
       "    <tr>\n",
       "      <th>11</th>\n",
       "      <td>248206</td>\n",
       "      <td>Hauptbahnhof</td>\n",
       "      <td>39</td>\n",
       "      <td>63</td>\n",
       "      <td>2016-12-10 09:58:47</td>\n",
       "      <td>2016-12-10 09:59:34</td>\n",
       "      <td>HS</td>\n",
       "      <td>S21</td>\n",
       "      <td>AHS</td>\n",
       "      <td>47.0</td>\n",
       "    </tr>\n",
       "    <tr>\n",
       "      <th>28</th>\n",
       "      <td>248233</td>\n",
       "      <td>Hauptbahnhof</td>\n",
       "      <td>40</td>\n",
       "      <td>57</td>\n",
       "      <td>2016-12-10 10:44:30</td>\n",
       "      <td>2016-12-10 10:50:40</td>\n",
       "      <td>HS</td>\n",
       "      <td>S21</td>\n",
       "      <td>AHS</td>\n",
       "      <td>370.0</td>\n",
       "    </tr>\n",
       "    <tr>\n",
       "      <th>51</th>\n",
       "      <td>248266</td>\n",
       "      <td>Hauptbahnhof</td>\n",
       "      <td>50</td>\n",
       "      <td>86</td>\n",
       "      <td>2016-12-10 11:57:53</td>\n",
       "      <td>2016-12-10 11:59:42</td>\n",
       "      <td>HS</td>\n",
       "      <td>S21</td>\n",
       "      <td>AHS</td>\n",
       "      <td>109.0</td>\n",
       "    </tr>\n",
       "    <tr>\n",
       "      <th>68</th>\n",
       "      <td>248293</td>\n",
       "      <td>Hauptbahnhof</td>\n",
       "      <td>46</td>\n",
       "      <td>46</td>\n",
       "      <td>2016-12-10 12:44:12</td>\n",
       "      <td>2016-12-10 12:45:01</td>\n",
       "      <td>HS</td>\n",
       "      <td>S21</td>\n",
       "      <td>AHS</td>\n",
       "      <td>49.0</td>\n",
       "    </tr>\n",
       "    <tr>\n",
       "      <th>91</th>\n",
       "      <td>248326</td>\n",
       "      <td>Hauptbahnhof</td>\n",
       "      <td>205</td>\n",
       "      <td>103</td>\n",
       "      <td>2016-12-10 13:59:04</td>\n",
       "      <td>2016-12-10 14:01:18</td>\n",
       "      <td>HS</td>\n",
       "      <td>S21</td>\n",
       "      <td>AHS</td>\n",
       "      <td>134.0</td>\n",
       "    </tr>\n",
       "    <tr>\n",
       "      <th>...</th>\n",
       "      <td>...</td>\n",
       "      <td>...</td>\n",
       "      <td>...</td>\n",
       "      <td>...</td>\n",
       "      <td>...</td>\n",
       "      <td>...</td>\n",
       "      <td>...</td>\n",
       "      <td>...</td>\n",
       "      <td>...</td>\n",
       "      <td>...</td>\n",
       "    </tr>\n",
       "    <tr>\n",
       "      <th>610571</th>\n",
       "      <td>247527</td>\n",
       "      <td>Hauptbahnhof</td>\n",
       "      <td>61</td>\n",
       "      <td>31</td>\n",
       "      <td>2017-03-30 20:34:35</td>\n",
       "      <td>2017-03-30 20:35:33</td>\n",
       "      <td>HS</td>\n",
       "      <td>S1</td>\n",
       "      <td>AHS</td>\n",
       "      <td>58.0</td>\n",
       "    </tr>\n",
       "    <tr>\n",
       "      <th>610592</th>\n",
       "      <td>247552</td>\n",
       "      <td>Hauptbahnhof</td>\n",
       "      <td>15</td>\n",
       "      <td>28</td>\n",
       "      <td>2017-03-30 21:30:56</td>\n",
       "      <td>2017-03-30 21:31:45</td>\n",
       "      <td>HS</td>\n",
       "      <td>S1</td>\n",
       "      <td>AHS</td>\n",
       "      <td>49.0</td>\n",
       "    </tr>\n",
       "    <tr>\n",
       "      <th>610615</th>\n",
       "      <td>247587k</td>\n",
       "      <td>Hauptbahnhof</td>\n",
       "      <td>49</td>\n",
       "      <td>36</td>\n",
       "      <td>2017-03-30 22:34:39</td>\n",
       "      <td>2017-03-30 22:35:31</td>\n",
       "      <td>HS</td>\n",
       "      <td>S1</td>\n",
       "      <td>AHS</td>\n",
       "      <td>52.0</td>\n",
       "    </tr>\n",
       "    <tr>\n",
       "      <th>610641</th>\n",
       "      <td>243047k</td>\n",
       "      <td>Hauptbahnhof</td>\n",
       "      <td>29</td>\n",
       "      <td>10</td>\n",
       "      <td>2017-03-31 06:47:19</td>\n",
       "      <td>2017-03-31 06:48:28</td>\n",
       "      <td>HS</td>\n",
       "      <td>S3</td>\n",
       "      <td>AHS</td>\n",
       "      <td>69.0</td>\n",
       "    </tr>\n",
       "    <tr>\n",
       "      <th>610658</th>\n",
       "      <td>243064k</td>\n",
       "      <td>Hauptbahnhof</td>\n",
       "      <td>0</td>\n",
       "      <td>146</td>\n",
       "      <td>2017-03-31 07:55:32</td>\n",
       "      <td>2017-03-31 07:56:51</td>\n",
       "      <td>HS</td>\n",
       "      <td>S3</td>\n",
       "      <td>AHS</td>\n",
       "      <td>79.0</td>\n",
       "    </tr>\n",
       "  </tbody>\n",
       "</table>\n",
       "<p>31516 rows × 10 columns</p>\n",
       "</div>"
      ],
      "text/plain": [
       "          Zugnr       Station  Einsteiger  Aussteiger  dtmIstAnkunftDatum   \n",
       "11       248206  Hauptbahnhof          39          63 2016-12-10 09:58:47  \\\n",
       "28       248233  Hauptbahnhof          40          57 2016-12-10 10:44:30   \n",
       "51       248266  Hauptbahnhof          50          86 2016-12-10 11:57:53   \n",
       "68       248293  Hauptbahnhof          46          46 2016-12-10 12:44:12   \n",
       "91       248326  Hauptbahnhof         205         103 2016-12-10 13:59:04   \n",
       "...         ...           ...         ...         ...                 ...   \n",
       "610571   247527  Hauptbahnhof          61          31 2017-03-30 20:34:35   \n",
       "610592   247552  Hauptbahnhof          15          28 2017-03-30 21:30:56   \n",
       "610615  247587k  Hauptbahnhof          49          36 2017-03-30 22:34:39   \n",
       "610641  243047k  Hauptbahnhof          29          10 2017-03-31 06:47:19   \n",
       "610658  243064k  Hauptbahnhof           0         146 2017-03-31 07:55:32   \n",
       "\n",
       "        dtmIstAbfahrtDatum DS100 kurz strKurzbezeichnung DS100  Haltedauer  \n",
       "11     2016-12-10 09:59:34         HS                S21   AHS        47.0  \n",
       "28     2016-12-10 10:50:40         HS                S21   AHS       370.0  \n",
       "51     2016-12-10 11:59:42         HS                S21   AHS       109.0  \n",
       "68     2016-12-10 12:45:01         HS                S21   AHS        49.0  \n",
       "91     2016-12-10 14:01:18         HS                S21   AHS       134.0  \n",
       "...                    ...        ...                ...   ...         ...  \n",
       "610571 2017-03-30 20:35:33         HS                 S1   AHS        58.0  \n",
       "610592 2017-03-30 21:31:45         HS                 S1   AHS        49.0  \n",
       "610615 2017-03-30 22:35:31         HS                 S1   AHS        52.0  \n",
       "610641 2017-03-31 06:48:28         HS                 S3   AHS        69.0  \n",
       "610658 2017-03-31 07:56:51         HS                 S3   AHS        79.0  \n",
       "\n",
       "[31516 rows x 10 columns]"
      ]
     },
     "execution_count": 53,
     "metadata": {},
     "output_type": "execute_result"
    }
   ],
   "source": [
    "hbfdata"
   ]
  },
  {
   "cell_type": "code",
   "execution_count": 54,
   "id": "6aed31c9",
   "metadata": {
    "slideshow": {
     "slide_type": "subslide"
    }
   },
   "outputs": [
    {
     "data": {
      "image/png": "[encoded data removed]",
      "text/plain": [
       "<Figure size 640x480 with 1 Axes>"
      ]
     },
     "metadata": {},
     "output_type": "display_data"
    }
   ],
   "source": [
    "plt.plot(hbfdata['Haltedauer'].value_counts(), '.')\n",
    "plt.xlim(0, 100);"
   ]
  },
  {
   "cell_type": "markdown",
   "id": "50536d10",
   "metadata": {
    "slideshow": {
     "slide_type": "slide"
    }
   },
   "source": [
    "### Einordnung der Haltedauer in Kategorien"
   ]
  },
  {
   "cell_type": "code",
   "execution_count": 55,
   "id": "afc17366",
   "metadata": {
    "slideshow": {
     "slide_type": "-"
    }
   },
   "outputs": [
    {
     "data": {
      "text/plain": [
       "0          (55, 100]\n",
       "1           (15, 35]\n",
       "2           (15, 35]\n",
       "3           (15, 35]\n",
       "4           (15, 35]\n",
       "             ...    \n",
       "610665      (35, 55]\n",
       "610666      (15, 35]\n",
       "610667      (35, 55]\n",
       "610668      (35, 55]\n",
       "610669    (100, 200]\n",
       "Name: Haltedauer, Length: 610670, dtype: category\n",
       "Categories (6, interval[int64, right]): [(0, 15] < (15, 35] < (35, 55] < (55, 100] < (100, 200] < (200, 20000]]"
      ]
     },
     "execution_count": 55,
     "metadata": {},
     "output_type": "execute_result"
    }
   ],
   "source": [
    "bins = (0, 15, 35, 55, 100, 200, 20000)\n",
    "pd.cut(df['Haltedauer'], bins=bins)"
   ]
  },
  {
   "cell_type": "code",
   "execution_count": 56,
   "id": "249d2f98",
   "metadata": {
    "slideshow": {
     "slide_type": "subslide"
    }
   },
   "outputs": [],
   "source": [
    "labels = ['ultrakurz', 'kurz', 'mittel', 'lang', 'sehr lang', 'ultralang']\n",
    "df['catHaltedauer'] = pd.cut(df['Haltedauer'], bins=bins, labels=labels)"
   ]
  },
  {
   "cell_type": "code",
   "execution_count": 57,
   "id": "6ebfd57e",
   "metadata": {
    "slideshow": {
     "slide_type": "subslide"
    }
   },
   "outputs": [
    {
     "data": {
      "text/html": [
       "<div>\n",
       "<style scoped>\n",
       "    .dataframe tbody tr th:only-of-type {\n",
       "        vertical-align: middle;\n",
       "    }\n",
       "\n",
       "    .dataframe tbody tr th {\n",
       "        vertical-align: top;\n",
       "    }\n",
       "\n",
       "    .dataframe thead th {\n",
       "        text-align: right;\n",
       "    }\n",
       "</style>\n",
       "<table border=\"1\" class=\"dataframe\">\n",
       "  <thead>\n",
       "    <tr style=\"text-align: right;\">\n",
       "      <th></th>\n",
       "      <th>Zugnr</th>\n",
       "      <th>Station</th>\n",
       "      <th>Einsteiger</th>\n",
       "      <th>Aussteiger</th>\n",
       "      <th>dtmIstAnkunftDatum</th>\n",
       "      <th>dtmIstAbfahrtDatum</th>\n",
       "      <th>DS100 kurz</th>\n",
       "      <th>strKurzbezeichnung</th>\n",
       "      <th>DS100</th>\n",
       "      <th>Haltedauer</th>\n",
       "      <th>catHaltedauer</th>\n",
       "    </tr>\n",
       "  </thead>\n",
       "  <tbody>\n",
       "    <tr>\n",
       "      <th>0</th>\n",
       "      <td>248206</td>\n",
       "      <td>Aumühle</td>\n",
       "      <td>0</td>\n",
       "      <td>0</td>\n",
       "      <td>2016-12-10 09:27:26</td>\n",
       "      <td>2016-12-10 09:28:49</td>\n",
       "      <td>AH</td>\n",
       "      <td>S21</td>\n",
       "      <td>AAH</td>\n",
       "      <td>83.0</td>\n",
       "      <td>lang</td>\n",
       "    </tr>\n",
       "    <tr>\n",
       "      <th>1</th>\n",
       "      <td>248206</td>\n",
       "      <td>Wohltorf</td>\n",
       "      <td>5</td>\n",
       "      <td>0</td>\n",
       "      <td>2016-12-10 09:31:36</td>\n",
       "      <td>2016-12-10 09:31:55</td>\n",
       "      <td>WLF</td>\n",
       "      <td>S21</td>\n",
       "      <td>AWLF</td>\n",
       "      <td>19.0</td>\n",
       "      <td>kurz</td>\n",
       "    </tr>\n",
       "    <tr>\n",
       "      <th>2</th>\n",
       "      <td>248206</td>\n",
       "      <td>Reinbek</td>\n",
       "      <td>9</td>\n",
       "      <td>0</td>\n",
       "      <td>2016-12-10 09:34:09</td>\n",
       "      <td>2016-12-10 09:34:32</td>\n",
       "      <td>RBK</td>\n",
       "      <td>S21</td>\n",
       "      <td>ARBK</td>\n",
       "      <td>23.0</td>\n",
       "      <td>kurz</td>\n",
       "    </tr>\n",
       "    <tr>\n",
       "      <th>3</th>\n",
       "      <td>248206</td>\n",
       "      <td>Bergedorf</td>\n",
       "      <td>43</td>\n",
       "      <td>5</td>\n",
       "      <td>2016-12-10 09:38:01</td>\n",
       "      <td>2016-12-10 09:38:32</td>\n",
       "      <td>BGS</td>\n",
       "      <td>S21</td>\n",
       "      <td>ABG S</td>\n",
       "      <td>31.0</td>\n",
       "      <td>kurz</td>\n",
       "    </tr>\n",
       "    <tr>\n",
       "      <th>4</th>\n",
       "      <td>248206</td>\n",
       "      <td>Nettelnburg</td>\n",
       "      <td>10</td>\n",
       "      <td>7</td>\n",
       "      <td>2016-12-10 09:40:32</td>\n",
       "      <td>2016-12-10 09:40:57</td>\n",
       "      <td>NTB</td>\n",
       "      <td>S21</td>\n",
       "      <td>ANTB</td>\n",
       "      <td>25.0</td>\n",
       "      <td>kurz</td>\n",
       "    </tr>\n",
       "    <tr>\n",
       "      <th>...</th>\n",
       "      <td>...</td>\n",
       "      <td>...</td>\n",
       "      <td>...</td>\n",
       "      <td>...</td>\n",
       "      <td>...</td>\n",
       "      <td>...</td>\n",
       "      <td>...</td>\n",
       "      <td>...</td>\n",
       "      <td>...</td>\n",
       "      <td>...</td>\n",
       "      <td>...</td>\n",
       "    </tr>\n",
       "    <tr>\n",
       "      <th>610665</th>\n",
       "      <td>243064k</td>\n",
       "      <td>Diebsteich</td>\n",
       "      <td>2</td>\n",
       "      <td>8</td>\n",
       "      <td>2017-03-31 08:13:03</td>\n",
       "      <td>2017-03-31 08:13:41</td>\n",
       "      <td>DT</td>\n",
       "      <td>S3</td>\n",
       "      <td>ADT</td>\n",
       "      <td>38.0</td>\n",
       "      <td>mittel</td>\n",
       "    </tr>\n",
       "    <tr>\n",
       "      <th>610666</th>\n",
       "      <td>243064k</td>\n",
       "      <td>Langenfelde</td>\n",
       "      <td>0</td>\n",
       "      <td>0</td>\n",
       "      <td>2017-03-31 08:14:53</td>\n",
       "      <td>2017-03-31 08:15:28</td>\n",
       "      <td>LST</td>\n",
       "      <td>S3</td>\n",
       "      <td>ALST</td>\n",
       "      <td>35.0</td>\n",
       "      <td>kurz</td>\n",
       "    </tr>\n",
       "    <tr>\n",
       "      <th>610667</th>\n",
       "      <td>243064k</td>\n",
       "      <td>Stellingen</td>\n",
       "      <td>0</td>\n",
       "      <td>2</td>\n",
       "      <td>2017-03-31 08:16:49</td>\n",
       "      <td>2017-03-31 08:17:28</td>\n",
       "      <td>STS</td>\n",
       "      <td>S3</td>\n",
       "      <td>ASTS</td>\n",
       "      <td>39.0</td>\n",
       "      <td>mittel</td>\n",
       "    </tr>\n",
       "    <tr>\n",
       "      <th>610668</th>\n",
       "      <td>243064k</td>\n",
       "      <td>Eidelstedt</td>\n",
       "      <td>0</td>\n",
       "      <td>0</td>\n",
       "      <td>2017-03-31 08:19:00</td>\n",
       "      <td>2017-03-31 08:19:41</td>\n",
       "      <td>EST</td>\n",
       "      <td>S3</td>\n",
       "      <td>AEST</td>\n",
       "      <td>41.0</td>\n",
       "      <td>mittel</td>\n",
       "    </tr>\n",
       "    <tr>\n",
       "      <th>610669</th>\n",
       "      <td>243064k</td>\n",
       "      <td>Elbgaustraße</td>\n",
       "      <td>0</td>\n",
       "      <td>1</td>\n",
       "      <td>2017-03-31 08:20:57</td>\n",
       "      <td>2017-03-31 08:24:11</td>\n",
       "      <td>EGS</td>\n",
       "      <td>S3</td>\n",
       "      <td>AEGS</td>\n",
       "      <td>194.0</td>\n",
       "      <td>sehr lang</td>\n",
       "    </tr>\n",
       "  </tbody>\n",
       "</table>\n",
       "<p>610670 rows × 11 columns</p>\n",
       "</div>"
      ],
      "text/plain": [
       "          Zugnr       Station  Einsteiger  Aussteiger  dtmIstAnkunftDatum   \n",
       "0        248206       Aumühle           0           0 2016-12-10 09:27:26  \\\n",
       "1        248206      Wohltorf           5           0 2016-12-10 09:31:36   \n",
       "2        248206       Reinbek           9           0 2016-12-10 09:34:09   \n",
       "3        248206     Bergedorf          43           5 2016-12-10 09:38:01   \n",
       "4        248206   Nettelnburg          10           7 2016-12-10 09:40:32   \n",
       "...         ...           ...         ...         ...                 ...   \n",
       "610665  243064k    Diebsteich           2           8 2017-03-31 08:13:03   \n",
       "610666  243064k   Langenfelde           0           0 2017-03-31 08:14:53   \n",
       "610667  243064k    Stellingen           0           2 2017-03-31 08:16:49   \n",
       "610668  243064k    Eidelstedt           0           0 2017-03-31 08:19:00   \n",
       "610669  243064k  Elbgaustraße           0           1 2017-03-31 08:20:57   \n",
       "\n",
       "        dtmIstAbfahrtDatum DS100 kurz strKurzbezeichnung  DS100  Haltedauer   \n",
       "0      2016-12-10 09:28:49         AH                S21    AAH        83.0  \\\n",
       "1      2016-12-10 09:31:55        WLF                S21   AWLF        19.0   \n",
       "2      2016-12-10 09:34:32        RBK                S21   ARBK        23.0   \n",
       "3      2016-12-10 09:38:32        BGS                S21  ABG S        31.0   \n",
       "4      2016-12-10 09:40:57        NTB                S21   ANTB        25.0   \n",
       "...                    ...        ...                ...    ...         ...   \n",
       "610665 2017-03-31 08:13:41         DT                 S3    ADT        38.0   \n",
       "610666 2017-03-31 08:15:28        LST                 S3   ALST        35.0   \n",
       "610667 2017-03-31 08:17:28        STS                 S3   ASTS        39.0   \n",
       "610668 2017-03-31 08:19:41        EST                 S3   AEST        41.0   \n",
       "610669 2017-03-31 08:24:11        EGS                 S3   AEGS       194.0   \n",
       "\n",
       "       catHaltedauer  \n",
       "0               lang  \n",
       "1               kurz  \n",
       "2               kurz  \n",
       "3               kurz  \n",
       "4               kurz  \n",
       "...              ...  \n",
       "610665        mittel  \n",
       "610666          kurz  \n",
       "610667        mittel  \n",
       "610668        mittel  \n",
       "610669     sehr lang  \n",
       "\n",
       "[610670 rows x 11 columns]"
      ]
     },
     "execution_count": 57,
     "metadata": {},
     "output_type": "execute_result"
    }
   ],
   "source": [
    "df"
   ]
  },
  {
   "cell_type": "code",
   "execution_count": 58,
   "id": "c6130b97",
   "metadata": {
    "slideshow": {
     "slide_type": "subslide"
    }
   },
   "outputs": [
    {
     "data": {
      "text/plain": [
       "0              lang\n",
       "1              kurz\n",
       "2              kurz\n",
       "3              kurz\n",
       "4              kurz\n",
       "            ...    \n",
       "610665       mittel\n",
       "610666         kurz\n",
       "610667       mittel\n",
       "610668       mittel\n",
       "610669    sehr lang\n",
       "Name: catHaltedauer, Length: 610670, dtype: category\n",
       "Categories (6, object): ['ultrakurz' < 'kurz' < 'mittel' < 'lang' < 'sehr lang' < 'ultralang']"
      ]
     },
     "execution_count": 58,
     "metadata": {},
     "output_type": "execute_result"
    }
   ],
   "source": [
    "df['catHaltedauer']"
   ]
  },
  {
   "cell_type": "code",
   "execution_count": 59,
   "id": "f1483ece",
   "metadata": {
    "slideshow": {
     "slide_type": "subslide"
    }
   },
   "outputs": [
    {
     "data": {
      "text/plain": [
       "False"
      ]
     },
     "execution_count": 59,
     "metadata": {},
     "output_type": "execute_result"
    }
   ],
   "source": [
    "df.loc[0, 'catHaltedauer'] < df.loc[1, 'catHaltedauer']"
   ]
  },
  {
   "cell_type": "code",
   "execution_count": 60,
   "id": "cf6e8d36",
   "metadata": {},
   "outputs": [
    {
     "data": {
      "text/plain": [
       "True"
      ]
     },
     "execution_count": 60,
     "metadata": {},
     "output_type": "execute_result"
    }
   ],
   "source": [
    "df.loc[610668, 'catHaltedauer'] < df.loc[610669, 'catHaltedauer']"
   ]
  },
  {
   "cell_type": "markdown",
   "id": "c9fd0685",
   "metadata": {
    "slideshow": {
     "slide_type": "slide"
    }
   },
   "source": [
    "### Zahl der Ein- und Aussteiger im Laufe des Tages"
   ]
  },
  {
   "cell_type": "code",
   "execution_count": 61,
   "id": "188807c7",
   "metadata": {
    "slideshow": {
     "slide_type": "fragment"
    }
   },
   "outputs": [],
   "source": [
    "df['Ankunft'] = df['dtmIstAnkunftDatum'].dt.hour*60 + df['dtmIstAnkunftDatum'].dt.minute"
   ]
  },
  {
   "cell_type": "code",
   "execution_count": 62,
   "id": "a73401b6",
   "metadata": {
    "slideshow": {
     "slide_type": "subslide"
    }
   },
   "outputs": [
    {
     "data": {
      "text/plain": [
       "[<matplotlib.lines.Line2D at 0x7f011dc9d810>]"
      ]
     },
     "execution_count": 62,
     "metadata": {},
     "output_type": "execute_result"
    },
    {
     "data": {
      "image/png": "[encoded data removed]",
      "text/plain": [
       "<Figure size 640x480 with 2 Axes>"
      ]
     },
     "metadata": {},
     "output_type": "display_data"
    }
   ],
   "source": [
    "station = \"Aumühle\"\n",
    "fig, (ax0, ax1) = plt.subplots(1, 2)\n",
    "df_station = df.query(\"Station == @station\")\n",
    "ax0.plot(df_station['Ankunft'], df_station['Einsteiger'], 'r.')\n",
    "ax1.plot(df_station['Ankunft'], df_station['Aussteiger'], 'b.')"
   ]
  },
  {
   "cell_type": "code",
   "execution_count": 63,
   "id": "a55dc08d",
   "metadata": {
    "slideshow": {
     "slide_type": "subslide"
    }
   },
   "outputs": [
    {
     "data": {
      "text/plain": [
       "[<matplotlib.lines.Line2D at 0x7f011dac0df0>]"
      ]
     },
     "execution_count": 63,
     "metadata": {},
     "output_type": "execute_result"
    },
    {
     "data": {
      "image/png": "[encoded data removed]",
      "text/plain": [
       "<Figure size 640x480 with 2 Axes>"
      ]
     },
     "metadata": {},
     "output_type": "display_data"
    }
   ],
   "source": [
    "station = \"Hauptbahnhof\"\n",
    "fig, (ax0, ax1) = plt.subplots(1, 2)\n",
    "df_station = df.query(\"Station == @station\")\n",
    "ax0.plot(df_station['Ankunft'], df_station['Einsteiger'], 'r.')\n",
    "ax1.plot(df_station['Ankunft'], df_station['Aussteiger'], 'b.')"
   ]
  }
 ],
 "metadata": {
  "celltoolbar": "Slideshow",
  "kernelspec": {
   "display_name": "Python 3 (ipykernel)",
   "language": "python",
   "name": "python3"
  },
  "language_info": {
   "codemirror_mode": {
    "name": "ipython",
    "version": 3
   },
   "file_extension": ".py",
   "mimetype": "text/x-python",
   "name": "python",
   "nbconvert_exporter": "python",
   "pygments_lexer": "ipython3",
   "version": "3.10.10"
  }
 },
 "nbformat": 4,
 "nbformat_minor": 5
}
