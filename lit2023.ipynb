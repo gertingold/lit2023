{
 "cells": [
  {
   "cell_type": "markdown",
   "id": "4a9a9526",
   "metadata": {
    "slideshow": {
     "slide_type": "slide"
    }
   },
   "source": [
    "# LIT 2023: Datenanalyse mit Python\n",
    "\n",
    "Gert-Ludwig Ingold\n",
    "\n",
    "\n"
   ]
  },
  {
   "cell_type": "markdown",
   "id": "22803e2e",
   "metadata": {
    "slideshow": {
     "slide_type": "-"
    }
   },
   "source": [
    "<div style=\"margin-top: 7em;font-size: smaller;\">Quellen: github.com/gertingold/lit2023</div>"
   ]
  },
  {
   "cell_type": "markdown",
   "id": "7055ed80",
   "metadata": {
    "slideshow": {
     "slide_type": "slide"
    }
   },
   "source": [
    "### Tabellenkalkulation\n",
    "\n",
    "* in der Windowswelt: Microsoft™ Excel™\n",
    "* in der Linuxwelt (und darüber hinaus): LibreOffice\n",
    "* Macros in LibreOffice können in Basic und Python programmiert werden\n",
    "\n",
    "Alternative:\n",
    "* Datenanalyse unabhängig von einem Tabellenkalkulationsprogramm\n",
    "* Python mit der pandas-Bibliothek\n",
    "* zusätzlich Jupyter-Notebook zur Entwicklung des Workflows und/oder zur Dokumentation der Datenanalyse"
   ]
  },
  {
   "cell_type": "markdown",
   "id": "20d48cf0",
   "metadata": {
    "slideshow": {
     "slide_type": "slide"
    }
   },
   "source": [
    "### Das erste Bild eines schwarzen Loches\n",
    "<table>\n",
    " <tr style=\"background-color:#ffffff;\">\n",
    " <td>\n",
    " <img src=\"eso1907a.jpg\" width=\"500\">\n",
    " <small>Credit: EHT Collaboration</small>\n",
    " </td><td>\n",
    " <p>verwendete Software:</p>\n",
    " <p>DiFX, CALC, PolConvert, HOPS, CASA, AIPS, ParselTongue, GNU Parallel, GILDAS, eht-imaging, <b>Numpy</b>, Scipy, <b>Pandas</b>, Astropy, <b>Jupyter</b>, <b>Matplotlib</b></p>\n",
    " <small>EHT Collaboration, Astrophys. J. Lett. <b>875</b>, L3 (2019)</small>\n",
    " </td>\n",
    " </tr>\n",
    "</table>"
   ]
  },
  {
   "cell_type": "markdown",
   "id": "404f4dac",
   "metadata": {
    "slideshow": {
     "slide_type": "slide"
    }
   },
   "source": [
    "### Pandas\n",
    "\n",
    "Dokumentation: https://pandas.pydata.org/\n",
    "\n",
    "Möglichkeiten zur Installation:\n",
    "* Debian/Ubuntu: Paket python3-pandas installieren\n",
    "* Anaconda-Distribution enthält pandas → https://anaconda.org\n",
    "* in einem virtual environment: `pip install pandas`"
   ]
  },
  {
   "cell_type": "code",
   "execution_count": null,
   "id": "dc6f8542",
   "metadata": {
    "slideshow": {
     "slide_type": "slide"
    }
   },
   "outputs": [],
   "source": [
    "import pandas as pd"
   ]
  },
  {
   "cell_type": "code",
   "execution_count": null,
   "id": "31fd5b82",
   "metadata": {
    "slideshow": {
     "slide_type": "-"
    }
   },
   "outputs": [],
   "source": [
    "import numpy as np\n",
    "import matplotlib.pyplot as plt\n",
    "import datetime"
   ]
  },
  {
   "cell_type": "markdown",
   "id": "10959bf5",
   "metadata": {
    "slideshow": {
     "slide_type": "slide"
    }
   },
   "source": [
    "## Passagierzählung S-Bahn Hamburg\n",
    "### aus dem Open-Data-Portal der Deutschen Bahn AG\n",
    "\n",
    "Webseite zum Datensatz:<br>\n",
    "https://data.deutschebahn.com/dataset/passagierzahlung-s-bahn-hamburg.html\n",
    "\n",
    "Daten zu Ein- und Aussteigern an den Hamburger S-Bahn Stationen aus Zählfahrten. (Rohdaten aus den Meßfahrten - exemplarische Werte, keine Gesamtpassagierzahlen)\n",
    "\n",
    "\n",
    "Link zum Datensatz:<br>\n",
    "https://download-data.deutschebahn.com/static/datasets/personenzahlen/Passagierzahlen.csv"
   ]
  },
  {
   "cell_type": "code",
   "execution_count": null,
   "id": "99b3b629",
   "metadata": {
    "slideshow": {
     "slide_type": "slide"
    }
   },
   "outputs": [],
   "source": [
    "!head Passagierzahlen.csv"
   ]
  },
  {
   "cell_type": "markdown",
   "id": "23156924",
   "metadata": {
    "slideshow": {
     "slide_type": "fragment"
    }
   },
   "source": [
    "* Spalten sind durch Strichpunkte getrennt\n",
    "* Encoding ist nicht UTF-8, sondern ISO8859\n",
    "* Ein- und Aussteigerzahlen sind als Gleitkommazahlen angegeben, nicht als ganze Zahlen\n",
    "* Es wird ein Dezimalkomma statt einem Dezimalpunkt verwendet\n",
    "* Die Angabe des Datums erfolgt als String und erfordert für die weitere Verarbeitung eine Umwandlung in ein `datetime`-Objekt\n",
    "* DS100 kurz: [Betriebsstellenverzeichnis](https://de.wikipedia.org/wiki/Betriebsstellenverzeichnis) (Druckschrift 100), zur Vervollständigung muss ein führendes A für H**A**mburg eingefügt werden"
   ]
  },
  {
   "cell_type": "markdown",
   "id": "7cb4b419",
   "metadata": {
    "slideshow": {
     "slide_type": "slide"
    }
   },
   "source": [
    "### Einlesen der Daten"
   ]
  },
  {
   "cell_type": "code",
   "execution_count": null,
   "id": "8d7be057",
   "metadata": {
    "slideshow": {
     "slide_type": "-"
    }
   },
   "outputs": [],
   "source": [
    "df = pd.read_csv('./Passagierzahlen.csv',\n",
    "                 sep=';',\n",
    "                 decimal=',',\n",
    "                 encoding='ISO8859',\n",
    "                 dtype={'Einsteiger': np.int64, 'Aussteiger': np.int64},\n",
    "                 parse_dates=['dtmIstAnkunftDatum', 'dtmIstAbfahrtDatum'],\n",
    "                 date_format='%d.%m.%Y %H:%M:%S'\n",
    "                )"
   ]
  },
  {
   "cell_type": "code",
   "execution_count": null,
   "id": "4296b89a",
   "metadata": {
    "scrolled": true,
    "slideshow": {
     "slide_type": "-"
    }
   },
   "outputs": [],
   "source": [
    "df"
   ]
  },
  {
   "cell_type": "code",
   "execution_count": null,
   "id": "6a333069",
   "metadata": {
    "slideshow": {
     "slide_type": "slide"
    }
   },
   "outputs": [],
   "source": [
    "df['Station']"
   ]
  },
  {
   "cell_type": "code",
   "execution_count": null,
   "id": "d0178fc8",
   "metadata": {
    "slideshow": {
     "slide_type": "-"
    }
   },
   "outputs": [],
   "source": [
    "df.Station"
   ]
  },
  {
   "cell_type": "code",
   "execution_count": null,
   "id": "676e3796",
   "metadata": {
    "slideshow": {
     "slide_type": "slide"
    }
   },
   "outputs": [],
   "source": [
    "type(df)"
   ]
  },
  {
   "cell_type": "code",
   "execution_count": null,
   "id": "60de8222",
   "metadata": {
    "slideshow": {
     "slide_type": "fragment"
    }
   },
   "outputs": [],
   "source": [
    "type(df['DS100 kurz'])"
   ]
  },
  {
   "cell_type": "markdown",
   "id": "8bd75240",
   "metadata": {
    "slideshow": {
     "slide_type": "fragment"
    }
   },
   "source": [
    "* `DataFrame`: zweidimensionale Tabelle\n",
    "* `Series`: Tabellenspalte"
   ]
  },
  {
   "cell_type": "code",
   "execution_count": null,
   "id": "e8900825",
   "metadata": {
    "slideshow": {
     "slide_type": "slide"
    }
   },
   "outputs": [],
   "source": [
    "df.info()"
   ]
  },
  {
   "cell_type": "code",
   "execution_count": null,
   "id": "3003de2b",
   "metadata": {
    "slideshow": {
     "slide_type": "-"
    }
   },
   "outputs": [],
   "source": [
    "df.keys()"
   ]
  },
  {
   "cell_type": "code",
   "execution_count": null,
   "id": "2236f962",
   "metadata": {
    "slideshow": {
     "slide_type": "-"
    }
   },
   "outputs": [],
   "source": [
    "df.keys()[0]"
   ]
  },
  {
   "cell_type": "markdown",
   "id": "9afa7cb3",
   "metadata": {
    "slideshow": {
     "slide_type": "slide"
    }
   },
   "source": [
    "### Gehen Passagiere verloren?"
   ]
  },
  {
   "cell_type": "code",
   "execution_count": null,
   "id": "7a97fcdb",
   "metadata": {
    "slideshow": {
     "slide_type": "-"
    }
   },
   "outputs": [],
   "source": [
    "df['Einsteiger'].sum()"
   ]
  },
  {
   "cell_type": "code",
   "execution_count": null,
   "id": "509359a5",
   "metadata": {
    "slideshow": {
     "slide_type": "-"
    }
   },
   "outputs": [],
   "source": [
    "df['Aussteiger'].sum()"
   ]
  },
  {
   "cell_type": "code",
   "execution_count": null,
   "id": "f56b6720",
   "metadata": {
    "slideshow": {
     "slide_type": "subslide"
    }
   },
   "outputs": [],
   "source": [
    "(df.loc[:19, 'Einsteiger'] - df.loc[:19, 'Aussteiger']).cumsum()"
   ]
  },
  {
   "cell_type": "markdown",
   "id": "c12584bb",
   "metadata": {
    "slideshow": {
     "slide_type": "slide"
    }
   },
   "source": [
    "### Hinzufügen einer Spalte mit den vollständigen Betriebsstellencodes"
   ]
  },
  {
   "cell_type": "code",
   "execution_count": null,
   "id": "26c43419",
   "metadata": {
    "slideshow": {
     "slide_type": "-"
    }
   },
   "outputs": [],
   "source": [
    "df[\"DS100\"] = \"A\" + df[\"DS100 kurz\"]\n",
    "df"
   ]
  },
  {
   "cell_type": "markdown",
   "id": "5975213c",
   "metadata": {
    "slideshow": {
     "slide_type": "slide"
    }
   },
   "source": [
    "## Haltestellendaten\n",
    "### aus dem Open-Data-Portal der Deutschen Bahn AG\n",
    "\n",
    "Webseite zum Datensatz:<br>\n",
    "https://data.deutschebahn.com/dataset/data-haltestellen.html\n",
    "\n",
    "Übersicht Haltestellen DB Station&Service AG\n",
    "\n",
    "\n",
    "Link zum Datensatz:<br>\n",
    "https://download-data.deutschebahn.com/static/datasets/haltestellen/D_Bahnhof_2017_09.csv"
   ]
  },
  {
   "cell_type": "code",
   "execution_count": null,
   "id": "5b3e3597",
   "metadata": {
    "scrolled": true,
    "slideshow": {
     "slide_type": "slide"
    }
   },
   "outputs": [],
   "source": [
    "!head D_Bahnhof_2017_09.csv"
   ]
  },
  {
   "cell_type": "code",
   "execution_count": null,
   "id": "c7e8b52b",
   "metadata": {
    "slideshow": {
     "slide_type": "fragment"
    }
   },
   "outputs": [],
   "source": [
    "!grep Schwabmünchen D_Bahnhof_2017_09.csv"
   ]
  },
  {
   "cell_type": "markdown",
   "id": "99cdb960",
   "metadata": {
    "slideshow": {
     "slide_type": "fragment"
    }
   },
   "source": [
    "* Encoding scheint UTF-8, also der Python-Standard, zu sein."
   ]
  },
  {
   "cell_type": "code",
   "execution_count": null,
   "id": "40524cd0",
   "metadata": {
    "slideshow": {
     "slide_type": "slide"
    }
   },
   "outputs": [],
   "source": [
    "stationen = pd.read_csv('./D_Bahnhof_2017_09.csv',\n",
    "                        sep=';',\n",
    "                        decimal=',',  \n",
    "                        usecols=['DS100', 'NAME', 'LAENGE', 'BREITE'],\n",
    "                        dtype={'LAENGE': np.float64, 'BREITE': np.float64}\n",
    "                        )\n",
    "stationen"
   ]
  },
  {
   "cell_type": "markdown",
   "id": "7c0b621a",
   "metadata": {
    "slideshow": {
     "slide_type": "fragment"
    }
   },
   "source": [
    "* Es gibt Haltestelleneinträge ohne DS100-Code.\n",
    "* NaN = Not a Number"
   ]
  },
  {
   "cell_type": "markdown",
   "id": "15b7ce24",
   "metadata": {
    "slideshow": {
     "slide_type": "slide"
    }
   },
   "source": [
    "### Zusammenführen der S-Bahn-Daten und der Haltestellendaten\n",
    "\n",
    "* Haltestellendaten werden mit Hilfe der Spalte `DS100` zu den S-Bahn-Daten hinzugefügt."
   ]
  },
  {
   "cell_type": "code",
   "execution_count": null,
   "id": "7e19d685",
   "metadata": {
    "slideshow": {
     "slide_type": "-"
    }
   },
   "outputs": [],
   "source": [
    "dfs = df.merge(stationen, how='left', on='DS100')"
   ]
  },
  {
   "cell_type": "code",
   "execution_count": null,
   "id": "13818a2a",
   "metadata": {
    "slideshow": {
     "slide_type": "slide"
    }
   },
   "outputs": [],
   "source": [
    "dfs"
   ]
  },
  {
   "cell_type": "markdown",
   "id": "8918d1c1",
   "metadata": {
    "slideshow": {
     "slide_type": "fragment"
    }
   },
   "source": [
    "* Es gibt Datensätze, bei denen die Haltestellendaten nicht hinzugefügt wurden, z.B. in den Datensätzen 0, 610667 und 610668.\n",
    "* Was ist die Ursache?"
   ]
  },
  {
   "cell_type": "code",
   "execution_count": null,
   "id": "e51b4869",
   "metadata": {
    "slideshow": {
     "slide_type": "slide"
    }
   },
   "outputs": [],
   "source": [
    "stationen[stationen['NAME'] == 'Aumühle']"
   ]
  },
  {
   "cell_type": "markdown",
   "id": "2729ee2f",
   "metadata": {
    "slideshow": {
     "slide_type": "-"
    }
   },
   "source": [
    "* Es gibt Haltestellen mit zwei (oder womöglich noch mehr) DS100-Bezeichnern.\n",
    "* Spalte Einträge dieser Art in mehrere Einträge mit nur einem DS100-Bezeichner auf."
   ]
  },
  {
   "cell_type": "markdown",
   "id": "a1a6b8cb",
   "metadata": {
    "slideshow": {
     "slide_type": "fragment"
    }
   },
   "source": [
    "* Insbesondere bei großen Datensätzen sollte man Schleifen über einzelne Zeilen vermeiden.\n",
    "* Auch das Hinzufügen einzelner Datensätze kann aufwändig sein, da neue DataFrames erzeugt werden.\n",
    "* Nach Möglichkeit Operationen verwenden, die auf den gesamten Datensatz wirken."
   ]
  },
  {
   "cell_type": "markdown",
   "id": "9f7b8911",
   "metadata": {
    "slideshow": {
     "slide_type": "slide"
    }
   },
   "source": [
    "### Aufbereitung des Haltestellendatensatzes\n",
    "1. Entferne Zeilen aus dem Datensatz, die in der `DS100`-Spalte den Eintrag `NaN` enthalten.\n",
    "2. Zerlege die Zeichenketten in der `DS100`-Spalte in eine Liste mit ggf. mehreren DS100-Bezeichnern. Die Einträge sind durch Kommas getrennt.\n",
    "3. Schreibe das Ergebnis wieder in die `DS100`-Spalte.\n",
    "4. Lasse Zeilen mit mehreren DS100-Bezeichnern explodieren, d.h. erzeuge mehrere Zeilen mit jeweils nur einem DS100-Bezeichner."
   ]
  },
  {
   "cell_type": "code",
   "execution_count": null,
   "id": "a74b5d03",
   "metadata": {
    "slideshow": {
     "slide_type": "fragment"
    }
   },
   "outputs": [],
   "source": [
    "stationen_ohne_nan = stationen.dropna(subset='DS100')\n",
    "spalte_ds100 = stationen_ohne_nan['DS100']\n",
    "stationen['DS100'] = spalte_ds100.map(lambda x: x.split(','))"
   ]
  },
  {
   "cell_type": "code",
   "execution_count": null,
   "id": "ea752d3b",
   "metadata": {
    "slideshow": {
     "slide_type": "slide"
    }
   },
   "outputs": [],
   "source": [
    "stationen[stationen['NAME'] == 'Hamburg Berliner Tor']"
   ]
  },
  {
   "cell_type": "code",
   "execution_count": null,
   "id": "fcab88a8",
   "metadata": {
    "slideshow": {
     "slide_type": "fragment"
    }
   },
   "outputs": [],
   "source": [
    "stationen = stationen.explode('DS100')\n",
    "stationen[stationen['NAME'] == 'Hamburg Berliner Tor']"
   ]
  },
  {
   "cell_type": "code",
   "execution_count": null,
   "id": "f503b8ce",
   "metadata": {
    "slideshow": {
     "slide_type": "fragment"
    }
   },
   "outputs": [],
   "source": [
    "dfs = df.merge(stationen, how='left', on='DS100')"
   ]
  },
  {
   "cell_type": "code",
   "execution_count": null,
   "id": "e4f86514",
   "metadata": {
    "slideshow": {
     "slide_type": "subslide"
    }
   },
   "outputs": [],
   "source": [
    "dfs"
   ]
  },
  {
   "cell_type": "markdown",
   "id": "c7fd7991",
   "metadata": {
    "slideshow": {
     "slide_type": "slide"
    }
   },
   "source": [
    "\n",
    "### Welche S-Bahnen gibt es in Hamburg?"
   ]
  },
  {
   "cell_type": "code",
   "execution_count": null,
   "id": "cea385af",
   "metadata": {
    "slideshow": {
     "slide_type": "-"
    }
   },
   "outputs": [],
   "source": [
    "dfs['strKurzbezeichnung'].unique()"
   ]
  },
  {
   "cell_type": "markdown",
   "id": "d8b29a79",
   "metadata": {
    "slideshow": {
     "slide_type": "slide"
    }
   },
   "source": [
    "### Linienführung der S21"
   ]
  },
  {
   "cell_type": "code",
   "execution_count": null,
   "id": "43981436",
   "metadata": {
    "slideshow": {
     "slide_type": "-"
    }
   },
   "outputs": [],
   "source": [
    "dfs.loc[:4, ['Zugnr', 'Station', 'strKurzbezeichnung']]"
   ]
  },
  {
   "cell_type": "code",
   "execution_count": null,
   "id": "27773726",
   "metadata": {},
   "outputs": [],
   "source": [
    "dfs.loc[17:22, ['Zugnr', 'Station', 'strKurzbezeichnung']]"
   ]
  },
  {
   "cell_type": "code",
   "execution_count": null,
   "id": "92e0ca25",
   "metadata": {
    "slideshow": {
     "slide_type": "slide"
    }
   },
   "outputs": [],
   "source": [
    "dfs.query(\"Zugnr == '248206'\")"
   ]
  },
  {
   "cell_type": "code",
   "execution_count": null,
   "id": "5afdc58a",
   "metadata": {
    "slideshow": {
     "slide_type": "subslide"
    }
   },
   "outputs": [],
   "source": [
    "datum = datetime.date(2016, 12, 10)\n",
    "df_s21 = dfs.query(\"Zugnr == '248206' and dtmIstAnkunftDatum.dt.date == @datum\")\n",
    "df_s21"
   ]
  },
  {
   "cell_type": "code",
   "execution_count": null,
   "id": "cf2c1f2d",
   "metadata": {
    "slideshow": {
     "slide_type": "slide"
    }
   },
   "outputs": [],
   "source": [
    "plt.plot(df_s21['LAENGE'], df_s21['BREITE'], '-o')"
   ]
  },
  {
   "cell_type": "markdown",
   "id": "2f1e92da",
   "metadata": {
    "slideshow": {
     "slide_type": "slide"
    }
   },
   "source": [
    "### Was ist in Zeile 4 passiert?\n",
    "* Indexzählung beginnt mit 0, betrachte also Index 3"
   ]
  },
  {
   "cell_type": "code",
   "execution_count": null,
   "id": "6858e0fb",
   "metadata": {
    "slideshow": {
     "slide_type": "fragment"
    }
   },
   "outputs": [],
   "source": [
    "df_s21.iloc[3]"
   ]
  },
  {
   "cell_type": "markdown",
   "id": "c16d5d56",
   "metadata": {
    "slideshow": {
     "slide_type": "fragment"
    }
   },
   "source": [
    "Bergedorf ist nicht Beringstedt!"
   ]
  },
  {
   "cell_type": "code",
   "execution_count": null,
   "id": "032c0b3c",
   "metadata": {
    "slideshow": {
     "slide_type": "subslide"
    }
   },
   "outputs": [],
   "source": [
    "stationen.query(\"NAME == 'Hamburg-Bergedorf'\")"
   ]
  },
  {
   "cell_type": "code",
   "execution_count": null,
   "id": "2bae96ca",
   "metadata": {
    "slideshow": {
     "slide_type": "-"
    }
   },
   "outputs": [],
   "source": [
    "stationen.query(\"NAME == 'Beringstedt'\")"
   ]
  },
  {
   "cell_type": "markdown",
   "id": "1c7acdcc",
   "metadata": {
    "slideshow": {
     "slide_type": "slide"
    }
   },
   "source": [
    "### Korrigiere DS100-Code von Bergedorf nach `AGB S`\n",
    "* Erzeuge eine Maske, die angibt, ob die Zeile den falschen DS100-Code enthält.\n",
    "* Setze den Code in den betreffenden Zeilen des ursprünglichen S-Bahn-Datensatzes korrekt."
   ]
  },
  {
   "cell_type": "code",
   "execution_count": null,
   "id": "198189b1",
   "metadata": {
    "slideshow": {
     "slide_type": "-"
    }
   },
   "outputs": [],
   "source": [
    "is_bergedorf = df['DS100'] == 'ABGS'"
   ]
  },
  {
   "cell_type": "code",
   "execution_count": null,
   "id": "55881e7e",
   "metadata": {},
   "outputs": [],
   "source": [
    "is_bergedorf"
   ]
  },
  {
   "cell_type": "code",
   "execution_count": null,
   "id": "4ba19fc4",
   "metadata": {
    "slideshow": {
     "slide_type": "subslide"
    }
   },
   "outputs": [],
   "source": [
    "df.loc[is_bergedorf, 'DS100'] = 'ABG S'"
   ]
  },
  {
   "cell_type": "code",
   "execution_count": null,
   "id": "4d31824a",
   "metadata": {
    "slideshow": {
     "slide_type": "-"
    }
   },
   "outputs": [],
   "source": [
    "df.iloc[:5]"
   ]
  },
  {
   "cell_type": "markdown",
   "id": "d6604406",
   "metadata": {
    "slideshow": {
     "slide_type": "slide"
    }
   },
   "source": [
    "### Nochmaliges Zusammenfügen der Daten"
   ]
  },
  {
   "cell_type": "code",
   "execution_count": null,
   "id": "b0c2dcce",
   "metadata": {
    "slideshow": {
     "slide_type": "-"
    }
   },
   "outputs": [],
   "source": [
    "dfs = df.merge(stationen, how='left', on='DS100')"
   ]
  },
  {
   "cell_type": "code",
   "execution_count": null,
   "id": "d30ce787",
   "metadata": {
    "slideshow": {
     "slide_type": "-"
    }
   },
   "outputs": [],
   "source": [
    "datum = datetime.date(2016, 12, 10)\n",
    "df_s21 = dfs.query(\"Zugnr == '248206' and dtmIstAnkunftDatum.dt.date == @datum\")"
   ]
  },
  {
   "cell_type": "markdown",
   "id": "1b4cad96",
   "metadata": {
    "slideshow": {
     "slide_type": "slide"
    }
   },
   "source": [
    "### Linienführung S21"
   ]
  },
  {
   "cell_type": "code",
   "execution_count": null,
   "id": "5286bb71",
   "metadata": {
    "slideshow": {
     "slide_type": "-"
    }
   },
   "outputs": [],
   "source": [
    "fig = plt.figure()\n",
    "ax = fig.add_subplot(111)\n",
    "ax.plot(df_s21['LAENGE'], df_s21['BREITE'], '-o')\n",
    "for x, y, text in zip(df_s21['LAENGE'], df_s21['BREITE'], df_s21['Station']):\n",
    "    ax.annotate(text, xy=(x, y))"
   ]
  },
  {
   "cell_type": "markdown",
   "id": "f51f87c0",
   "metadata": {
    "slideshow": {
     "slide_type": "slide"
    }
   },
   "source": [
    "### Kann eine S-Bahn vor der Ankunft abfahren?"
   ]
  },
  {
   "cell_type": "code",
   "execution_count": null,
   "id": "be5d817e",
   "metadata": {
    "slideshow": {
     "slide_type": "-"
    }
   },
   "outputs": [],
   "source": [
    "df['Haltedauer'] = (df['dtmIstAbfahrtDatum']-df['dtmIstAnkunftDatum']).dt.total_seconds()"
   ]
  },
  {
   "cell_type": "code",
   "execution_count": null,
   "id": "96ca309b",
   "metadata": {
    "slideshow": {
     "slide_type": "fragment"
    }
   },
   "outputs": [],
   "source": [
    "df['Haltedauer'].min(), df['Haltedauer'].max()"
   ]
  },
  {
   "cell_type": "code",
   "execution_count": null,
   "id": "3ec565a8",
   "metadata": {
    "slideshow": {
     "slide_type": "fragment"
    }
   },
   "outputs": [],
   "source": [
    "df[df['Haltedauer'] < 0]"
   ]
  },
  {
   "cell_type": "code",
   "execution_count": null,
   "id": "725ab188",
   "metadata": {
    "slideshow": {
     "slide_type": "fragment"
    }
   },
   "outputs": [],
   "source": [
    "df.loc[df['Haltedauer'] < 0, 'Haltedauer'] = np.nan"
   ]
  },
  {
   "cell_type": "code",
   "execution_count": null,
   "id": "8e5fe25a",
   "metadata": {
    "slideshow": {
     "slide_type": "fragment"
    }
   },
   "outputs": [],
   "source": [
    "df.loc[df['Haltedauer'].isnull()]"
   ]
  },
  {
   "cell_type": "markdown",
   "id": "32fa7ec4",
   "metadata": {
    "slideshow": {
     "slide_type": "slide"
    }
   },
   "source": [
    "### Verteilung der Haltedauern"
   ]
  },
  {
   "cell_type": "code",
   "execution_count": null,
   "id": "76b2ca99",
   "metadata": {
    "slideshow": {
     "slide_type": "-"
    }
   },
   "outputs": [],
   "source": [
    "df['Haltedauer'].value_counts()"
   ]
  },
  {
   "cell_type": "code",
   "execution_count": null,
   "id": "7e9ac3b5",
   "metadata": {
    "slideshow": {
     "slide_type": "subslide"
    }
   },
   "outputs": [],
   "source": [
    "plt.plot(df['Haltedauer'].value_counts(), '.')\n",
    "plt.xlim(0, 100);"
   ]
  },
  {
   "cell_type": "markdown",
   "id": "35861337",
   "metadata": {
    "slideshow": {
     "slide_type": "slide"
    }
   },
   "source": [
    "### Hält die S-Bahn am Hauptbahnhof länger?"
   ]
  },
  {
   "cell_type": "code",
   "execution_count": null,
   "id": "f2f1e186",
   "metadata": {
    "slideshow": {
     "slide_type": "-"
    }
   },
   "outputs": [],
   "source": [
    "dfs['Station'].unique()"
   ]
  },
  {
   "cell_type": "code",
   "execution_count": null,
   "id": "3fc564db",
   "metadata": {
    "slideshow": {
     "slide_type": "subslide"
    }
   },
   "outputs": [],
   "source": [
    "hbfdata = df[df['Station'] == 'Hauptbahnhof']"
   ]
  },
  {
   "cell_type": "code",
   "execution_count": null,
   "id": "ea4ed3b3",
   "metadata": {
    "slideshow": {
     "slide_type": "fragment"
    }
   },
   "outputs": [],
   "source": [
    "hbfdata"
   ]
  },
  {
   "cell_type": "code",
   "execution_count": null,
   "id": "6aed31c9",
   "metadata": {
    "slideshow": {
     "slide_type": "subslide"
    }
   },
   "outputs": [],
   "source": [
    "plt.plot(hbfdata['Haltedauer'].value_counts(), '.')\n",
    "plt.xlim(0, 100);"
   ]
  },
  {
   "cell_type": "markdown",
   "id": "50536d10",
   "metadata": {
    "slideshow": {
     "slide_type": "slide"
    }
   },
   "source": [
    "### Einordnung der Haltedauer in Kategorien"
   ]
  },
  {
   "cell_type": "code",
   "execution_count": null,
   "id": "afc17366",
   "metadata": {
    "slideshow": {
     "slide_type": "-"
    }
   },
   "outputs": [],
   "source": [
    "bins = (0, 15, 35, 55, 100, 200, 20000)\n",
    "pd.cut(df['Haltedauer'], bins=bins)"
   ]
  },
  {
   "cell_type": "code",
   "execution_count": null,
   "id": "249d2f98",
   "metadata": {
    "slideshow": {
     "slide_type": "subslide"
    }
   },
   "outputs": [],
   "source": [
    "labels = ['ultrakurz', 'kurz', 'mittel', 'lang', 'sehr lang', 'ultralang']\n",
    "df['catHaltedauer'] = pd.cut(df['Haltedauer'], bins=bins, labels=labels)"
   ]
  },
  {
   "cell_type": "code",
   "execution_count": null,
   "id": "6ebfd57e",
   "metadata": {
    "slideshow": {
     "slide_type": "subslide"
    }
   },
   "outputs": [],
   "source": [
    "df"
   ]
  },
  {
   "cell_type": "code",
   "execution_count": null,
   "id": "c6130b97",
   "metadata": {
    "slideshow": {
     "slide_type": "subslide"
    }
   },
   "outputs": [],
   "source": [
    "df['catHaltedauer']"
   ]
  },
  {
   "cell_type": "code",
   "execution_count": null,
   "id": "f1483ece",
   "metadata": {
    "slideshow": {
     "slide_type": "subslide"
    }
   },
   "outputs": [],
   "source": [
    "df.loc[0, 'catHaltedauer'] < df.loc[1, 'catHaltedauer']"
   ]
  },
  {
   "cell_type": "code",
   "execution_count": null,
   "id": "cf6e8d36",
   "metadata": {},
   "outputs": [],
   "source": [
    "df.loc[610668, 'catHaltedauer'] < df.loc[610669, 'catHaltedauer']"
   ]
  },
  {
   "cell_type": "markdown",
   "id": "c9fd0685",
   "metadata": {
    "slideshow": {
     "slide_type": "slide"
    }
   },
   "source": [
    "### Zahl der Ein- und Aussteiger im Laufe des Tages"
   ]
  },
  {
   "cell_type": "code",
   "execution_count": null,
   "id": "188807c7",
   "metadata": {
    "slideshow": {
     "slide_type": "fragment"
    }
   },
   "outputs": [],
   "source": [
    "df['Ankunft'] = df['dtmIstAnkunftDatum'].dt.hour*60 + df['dtmIstAnkunftDatum'].dt.minute"
   ]
  },
  {
   "cell_type": "code",
   "execution_count": null,
   "id": "a73401b6",
   "metadata": {
    "slideshow": {
     "slide_type": "subslide"
    }
   },
   "outputs": [],
   "source": [
    "station = \"Aumühle\"\n",
    "fig, (ax0, ax1) = plt.subplots(1, 2)\n",
    "df_station = df.query(\"Station == @station\")\n",
    "ax0.plot(df_station['Ankunft'], df_station['Einsteiger'], 'r.')\n",
    "ax1.plot(df_station['Ankunft'], df_station['Aussteiger'], 'b.')"
   ]
  },
  {
   "cell_type": "code",
   "execution_count": null,
   "id": "a55dc08d",
   "metadata": {
    "slideshow": {
     "slide_type": "subslide"
    }
   },
   "outputs": [],
   "source": [
    "station = \"Hauptbahnhof\"\n",
    "fig, (ax0, ax1) = plt.subplots(1, 2)\n",
    "df_station = df.query(\"Station == @station\")\n",
    "ax0.plot(df_station['Ankunft'], df_station['Einsteiger'], 'r.')\n",
    "ax1.plot(df_station['Ankunft'], df_station['Aussteiger'], 'b.')"
   ]
  }
 ],
 "metadata": {
  "celltoolbar": "Slideshow",
  "kernelspec": {
   "display_name": "Python 3 (ipykernel)",
   "language": "python",
   "name": "python3"
  },
  "language_info": {
   "codemirror_mode": {
    "name": "ipython",
    "version": 3
   },
   "file_extension": ".py",
   "mimetype": "text/x-python",
   "name": "python",
   "nbconvert_exporter": "python",
   "pygments_lexer": "ipython3",
   "version": "3.10.10"
  }
 },
 "nbformat": 4,
 "nbformat_minor": 5
}
